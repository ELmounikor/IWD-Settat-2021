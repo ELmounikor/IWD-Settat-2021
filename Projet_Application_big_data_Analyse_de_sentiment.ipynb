{
  "nbformat": 4,
  "nbformat_minor": 0,
  "metadata": {
    "colab": {
      "name": "Projet Application big data: Analyse de sentiment.ipynb",
      "provenance": [],
      "collapsed_sections": [],
      "authorship_tag": "ABX9TyOP2yJ7ij9FYV2lCYE/FHqm",
      "include_colab_link": true
    },
    "kernelspec": {
      "name": "python3",
      "display_name": "Python 3"
    }
  },
  "cells": [
    {
      "cell_type": "markdown",
      "metadata": {
        "id": "view-in-github",
        "colab_type": "text"
      },
      "source": [
        "<a href=\"https://colab.research.google.com/github/ELmounikor/IWD-Settat-2021/blob/master/Projet_Application_big_data_Analyse_de_sentiment.ipynb\" target=\"_parent\"><img src=\"https://colab.research.google.com/assets/colab-badge.svg\" alt=\"Open In Colab\"/></a>"
      ]
    },
    {
      "cell_type": "markdown",
      "metadata": {
        "id": "nf33ptf-olCP"
      },
      "source": [
        "# **Mini Projet Application big data: Analyse de sentiment**\r\n",
        "- Réalisé par **Mounia EL KORAICHI**\r\n",
        "- Encadré par **Pr. Habib Ayad**"
      ]
    },
    {
      "cell_type": "markdown",
      "metadata": {
        "id": "3wXTAc4Vo0zM"
      },
      "source": [
        "# Introduction\r\n"
      ]
    },
    {
      "cell_type": "markdown",
      "metadata": {
        "id": "yxkXpCh7pFP3"
      },
      "source": [
        "Dans le cadre de la formation du Master de recherche Big Data et internet des objets au sein de l’école nationale supérieure des arts et métiers, nous étions amenées à réaliser un mini projet big data.\r\n",
        "\r\n",
        "Il est de plus en plus courant de faire face à des situations où la quantité de données est tout simplement trop importante pour être gérée sur une seule machine. Heureusement, des technologies telles qu'Apache Spark, Hadoop et d'autres ont été développées pour résoudre exactement ce problème. La puissance de ces systèmes peut être exploitée directement à partir de Python en utilisant PySpark!\r\n",
        "\r\n",
        "Vous pouvez visualiser le projet directement sur google colab à partir de ce [lien](https://colab.research.google.com/drive/1RSIsQ9Nqf8dBVjzEejE4c9EoU1uaivrL?usp=sharing): https://colab.research.google.com/drive/1RSIsQ9Nqf8dBVjzEejE4c9EoU1uaivrL?usp=sharing"
      ]
    },
    {
      "cell_type": "markdown",
      "metadata": {
        "id": "E4-Xdtylu8EF"
      },
      "source": [
        "Ce projet big data vise à predire l'avis des spectateurs vis-à-vis à des produits télévisés à partir du text de leurs commentaires\r\n",
        "\r\n",
        "![Capture.PNG](data:image/png;base64,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)"
      ]
    },
    {
      "cell_type": "markdown",
      "metadata": {
        "id": "s7le18dAqI50"
      },
      "source": [
        "# Chargement des dépendances"
      ]
    },
    {
      "cell_type": "code",
      "metadata": {
        "id": "dZyKG5_8qN0p"
      },
      "source": [
        "# Instalation de java\r\n",
        "! apt-get update -qq\r\n",
        "! apt-get install -y openjdk-8-jdk-headless -qq > /dev/null\r\n",
        "# Instalation de Spark\r\n",
        "!wget -q https://downloads.apache.org/spark/spark-3.1.1/spark-3.1.1-bin-hadoop2.7.tgz\r\n",
        "!tar xf spark-3.1.1-bin-hadoop2.7.tgz\r\n",
        "!pip install -q findspark"
      ],
      "execution_count": null,
      "outputs": []
    },
    {
      "cell_type": "code",
      "metadata": {
        "colab": {
          "base_uri": "https://localhost:8080/"
        },
        "id": "xmmIF_6iqSch",
        "outputId": "711e0a2e-12b6-4956-bf13-69c0d4191fc5"
      },
      "source": [
        "import os\r\n",
        "os.environ[\"JAVA_HOME\"] = \"/usr/lib/jvm/java-8-openjdk-amd64\"\r\n",
        "os.environ[\"SPARK_HOME\"] = \"/content/spark-3.1.1-bin-hadoop2.7\"\r\n",
        "os.environ[\"PATH\"] = os.environ[\"JAVA_HOME\"] + \"/bin:\" + os.environ[\"PATH\"]\r\n",
        "! java -version\r\n",
        "\r\n",
        "# Instalation de pyspark\r\n",
        "! pip install --ignore-installed pyspark==2.4.4"
      ],
      "execution_count": null,
      "outputs": [
        {
          "output_type": "stream",
          "text": [
            "openjdk version \"1.8.0_282\"\n",
            "OpenJDK Runtime Environment (build 1.8.0_282-8u282-b08-0ubuntu1~18.04-b08)\n",
            "OpenJDK 64-Bit Server VM (build 25.282-b08, mixed mode)\n",
            "Collecting pyspark==2.4.4\n",
            "\u001b[?25l  Downloading https://files.pythonhosted.org/packages/87/21/f05c186f4ddb01d15d0ddc36ef4b7e3cedbeb6412274a41f26b55a650ee5/pyspark-2.4.4.tar.gz (215.7MB)\n",
            "\u001b[K     |████████████████████████████████| 215.7MB 73kB/s \n",
            "\u001b[?25hCollecting py4j==0.10.7\n",
            "\u001b[?25l  Downloading https://files.pythonhosted.org/packages/e3/53/c737818eb9a7dc32a7cd4f1396e787bd94200c3997c72c1dbe028587bd76/py4j-0.10.7-py2.py3-none-any.whl (197kB)\n",
            "\u001b[K     |████████████████████████████████| 204kB 11.9MB/s \n",
            "\u001b[?25hBuilding wheels for collected packages: pyspark\n",
            "  Building wheel for pyspark (setup.py) ... \u001b[?25l\u001b[?25hdone\n",
            "  Created wheel for pyspark: filename=pyspark-2.4.4-py2.py3-none-any.whl size=216130389 sha256=3f1f1dfb5d85b1e6696c7fcafc3e08d4d9a8c5ab906cd439e58aea5cf14cee29\n",
            "  Stored in directory: /root/.cache/pip/wheels/ab/09/4d/0d184230058e654eb1b04467dbc1292f00eaa186544604b471\n",
            "Successfully built pyspark\n",
            "Installing collected packages: py4j, pyspark\n",
            "Successfully installed py4j-0.10.7 pyspark-2.4.4\n"
          ],
          "name": "stdout"
        }
      ]
    },
    {
      "cell_type": "code",
      "metadata": {
        "id": "6TSHaw6SqWue"
      },
      "source": [
        "import findspark\r\n",
        "findspark.init()\r\n",
        "from pyspark.sql import SparkSession\r\n",
        "spark = SparkSession.builder.master(\"local[*]\").getOrCreate()"
      ],
      "execution_count": null,
      "outputs": []
    },
    {
      "cell_type": "markdown",
      "metadata": {
        "id": "ngmt7zVsp5V5"
      },
      "source": [
        "# *Chargement des données*"
      ]
    },
    {
      "cell_type": "code",
      "metadata": {
        "colab": {
          "resources": {
            "http://localhost:8080/nbextensions/google.colab/files.js": {
              "data": "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",
              "ok": true,
              "headers": [
                [
                  "content-type",
                  "application/javascript"
                ]
              ],
              "status": 200,
              "status_text": ""
            }
          },
          "base_uri": "https://localhost:8080/",
          "height": 72
        },
        "id": "yZD4ph2Sp3z8",
        "outputId": "0c2fec7e-6707-4bc7-dca1-b55fe29594a8"
      },
      "source": [
        "# J'ai travaillé avec Google colab car il s'execute dans les serveurs de google au lieu de la machine (il est plus rapide)\r\n",
        "from google.colab import files\r\n",
        "files.upload()"
      ],
      "execution_count": null,
      "outputs": [
        {
          "output_type": "display_data",
          "data": {
            "text/html": [
              "\n",
              "     <input type=\"file\" id=\"files-b1374986-57f8-4afd-85aa-8a30f960d65c\" name=\"files[]\" multiple disabled\n",
              "        style=\"border:none\" />\n",
              "     <output id=\"result-b1374986-57f8-4afd-85aa-8a30f960d65c\">\n",
              "      Upload widget is only available when the cell has been executed in the\n",
              "      current browser session. Please rerun this cell to enable.\n",
              "      </output>\n",
              "      <script src=\"/nbextensions/google.colab/files.js\"></script> "
            ],
            "text/plain": [
              "<IPython.core.display.HTML object>"
            ]
          },
          "metadata": {
            "tags": []
          }
        },
        {
          "output_type": "stream",
          "text": [
            "Saving IMDB Dataset.csv to IMDB Dataset.csv\n"
          ],
          "name": "stdout"
        }
      ]
    },
    {
      "cell_type": "code",
      "metadata": {
        "id": "UtjX8FkLokiD"
      },
      "source": [
        "# J'ai definis '\",' comme deliminateur pour ne pas perdre les données (car il y a des virgules dans les texts) \r\n",
        "# Et j'ai ajouté \" avant la virgule dans la premiere ligne seulement \r\n",
        "dataset = spark.read.csv('IMDB Dataset.csv',header =True, sep='\",', inferSchema=True)"
      ],
      "execution_count": null,
      "outputs": []
    },
    {
      "cell_type": "code",
      "metadata": {
        "colab": {
          "base_uri": "https://localhost:8080/"
        },
        "id": "oBrogN8IoX_H",
        "outputId": "fc0e5f79-7954-4c0a-e0c3-b110ec16ad7c"
      },
      "source": [
        "dataset.show()"
      ],
      "execution_count": null,
      "outputs": [
        {
          "output_type": "stream",
          "text": [
            "+--------------------+---------+\n",
            "|              review|sentiment|\n",
            "+--------------------+---------+\n",
            "|\"One of the other...| positive|\n",
            "|\"A wonderful litt...| positive|\n",
            "|\"I thought this w...| positive|\n",
            "|\"Basically there'...| negative|\n",
            "|\"Petter Mattei's ...| positive|\n",
            "|\"Probably my all-...| positive|\n",
            "|\"I sure would lik...| positive|\n",
            "|\"This show was an...| negative|\n",
            "|\"Encouraged by th...| negative|\n",
            "|\"If you like orig...| positive|\n",
            "|\"Phil the Alien i...| negative|\n",
            "|\"I saw this movie...| negative|\n",
            "|\"So im not a big ...| negative|\n",
            "|\"The cast played ...| negative|\n",
            "|This a fantastic ...|     null|\n",
            "|\"Kind of drawn in...| negative|\n",
            "|\"Some films just ...| positive|\n",
            "|\"This movie made ...| negative|\n",
            "|\"I remember this ...| positive|\n",
            "|\"An awful film! I...| negative|\n",
            "+--------------------+---------+\n",
            "only showing top 20 rows\n",
            "\n"
          ],
          "name": "stdout"
        }
      ]
    },
    {
      "cell_type": "markdown",
      "metadata": {
        "id": "OYCOPkjJscMm"
      },
      "source": [
        "# *Analyse générale des données*"
      ]
    },
    {
      "cell_type": "code",
      "metadata": {
        "colab": {
          "base_uri": "https://localhost:8080/"
        },
        "id": "9BxfQl1S5KEz",
        "outputId": "0dacb041-3832-421c-a804-a0a720bdb77d"
      },
      "source": [
        "dataset.printSchema()"
      ],
      "execution_count": null,
      "outputs": [
        {
          "output_type": "stream",
          "text": [
            "root\n",
            " |-- review: string (nullable = true)\n",
            " |-- sentiment: string (nullable = true)\n",
            "\n"
          ],
          "name": "stdout"
        }
      ]
    },
    {
      "cell_type": "code",
      "metadata": {
        "colab": {
          "base_uri": "https://localhost:8080/"
        },
        "id": "YqotG7GRT7Br",
        "outputId": "3911740c-ca32-498a-b65b-ca871b640605"
      },
      "source": [
        "dataset.count()"
      ],
      "execution_count": null,
      "outputs": [
        {
          "output_type": "execute_result",
          "data": {
            "text/plain": [
              "50000"
            ]
          },
          "metadata": {
            "tags": []
          },
          "execution_count": 108
        }
      ]
    },
    {
      "cell_type": "code",
      "metadata": {
        "id": "W6T-LcTH5gm5",
        "colab": {
          "base_uri": "https://localhost:8080/"
        },
        "outputId": "6cb8a6fb-2d5f-4faf-a38f-798cf33f26d9"
      },
      "source": [
        "dataset.describe().show()"
      ],
      "execution_count": null,
      "outputs": [
        {
          "output_type": "stream",
          "text": [
            "+-------+--------------------+--------------------+\n",
            "|summary|              review|           sentiment|\n",
            "+-------+--------------------+--------------------+\n",
            "|  count|               50000|               48463|\n",
            "|   mean|                null|                null|\n",
            "| stddev|                null|                null|\n",
            "|    min|!!!!! OF COURSE T...| \"\" the nerd type...|\n",
            "|    max|zero day is based...|worth watching if...|\n",
            "+-------+--------------------+--------------------+\n",
            "\n"
          ],
          "name": "stdout"
        }
      ]
    },
    {
      "cell_type": "markdown",
      "metadata": {
        "id": "WqZRqpqUtBH1"
      },
      "source": [
        "# Calcul le nombre de ‘review’ non labélisés"
      ]
    },
    {
      "cell_type": "code",
      "metadata": {
        "id": "XL1pdK61tHXz",
        "colab": {
          "base_uri": "https://localhost:8080/"
        },
        "outputId": "b7f0cc92-056d-4e93-8b78-39aac941d437"
      },
      "source": [
        "dataset.count()-dataset.filter((dataset['sentiment']=='positive')|(dataset['sentiment']=='negative')).count()"
      ],
      "execution_count": null,
      "outputs": [
        {
          "output_type": "execute_result",
          "data": {
            "text/plain": [
              "5601"
            ]
          },
          "metadata": {
            "tags": []
          },
          "execution_count": 110
        }
      ]
    },
    {
      "cell_type": "markdown",
      "metadata": {
        "id": "7c8yPwT5tIu3"
      },
      "source": [
        "# Construction un dataFrame qui contient seulement les ‘review’ labélisés"
      ]
    },
    {
      "cell_type": "code",
      "metadata": {
        "id": "_y1FoXfWtdDr"
      },
      "source": [
        "df=dataset.filter((dataset['sentiment']=='positive')|(dataset['sentiment']=='negative'))"
      ],
      "execution_count": null,
      "outputs": []
    },
    {
      "cell_type": "code",
      "metadata": {
        "colab": {
          "base_uri": "https://localhost:8080/"
        },
        "id": "nV0UVYKGXxM7",
        "outputId": "00270e33-84d3-4ff4-a240-e01f03ace0e5"
      },
      "source": [
        "df.groupBy('sentiment').count().show()\r\n",
        "# nous constatons que la dataset est equilibré"
      ],
      "execution_count": null,
      "outputs": [
        {
          "output_type": "stream",
          "text": [
            "+---------+-----+\n",
            "|sentiment|count|\n",
            "+---------+-----+\n",
            "| positive|22096|\n",
            "| negative|22303|\n",
            "+---------+-----+\n",
            "\n"
          ],
          "name": "stdout"
        }
      ]
    },
    {
      "cell_type": "markdown",
      "metadata": {
        "id": "PzSi9TRWtdcu"
      },
      "source": [
        "# Enregistrement un nouveau dataFrame au format json en un seul fichier"
      ]
    },
    {
      "cell_type": "code",
      "metadata": {
        "id": "8p2GtPbotnKc"
      },
      "source": [
        "df.write.json(\"imdb.json\")"
      ],
      "execution_count": null,
      "outputs": []
    },
    {
      "cell_type": "code",
      "metadata": {
        "colab": {
          "base_uri": "https://localhost:8080/"
        },
        "id": "K-UldPG3cvWI",
        "outputId": "2bf87c2b-48bd-4cb0-bb7e-0746e08741c2"
      },
      "source": [
        "file= spark.read.json(\"imdb.json\")\r\n",
        "file"
      ],
      "execution_count": null,
      "outputs": [
        {
          "output_type": "execute_result",
          "data": {
            "text/plain": [
              "DataFrame[review: string, sentiment: string]"
            ]
          },
          "metadata": {
            "tags": []
          },
          "execution_count": 115
        }
      ]
    },
    {
      "cell_type": "code",
      "metadata": {
        "colab": {
          "base_uri": "https://localhost:8080/"
        },
        "id": "mT8ibc4tdXep",
        "outputId": "5d7768fa-7ee0-4589-a298-6f25cb6d92dc"
      },
      "source": [
        "file.show()"
      ],
      "execution_count": null,
      "outputs": [
        {
          "output_type": "stream",
          "text": [
            "+--------------------+---------+\n",
            "|              review|sentiment|\n",
            "+--------------------+---------+\n",
            "|\"One of the other...| positive|\n",
            "|\"A wonderful litt...| positive|\n",
            "|\"I thought this w...| positive|\n",
            "|\"Basically there'...| negative|\n",
            "|\"Petter Mattei's ...| positive|\n",
            "|\"Probably my all-...| positive|\n",
            "|\"I sure would lik...| positive|\n",
            "|\"This show was an...| negative|\n",
            "|\"Encouraged by th...| negative|\n",
            "|\"If you like orig...| positive|\n",
            "|\"Phil the Alien i...| negative|\n",
            "|\"I saw this movie...| negative|\n",
            "|\"So im not a big ...| negative|\n",
            "|\"The cast played ...| negative|\n",
            "|\"Kind of drawn in...| negative|\n",
            "|\"Some films just ...| positive|\n",
            "|\"This movie made ...| negative|\n",
            "|\"I remember this ...| positive|\n",
            "|\"An awful film! I...| negative|\n",
            "|\"After the succes...| positive|\n",
            "+--------------------+---------+\n",
            "only showing top 20 rows\n",
            "\n"
          ],
          "name": "stdout"
        }
      ]
    },
    {
      "cell_type": "markdown",
      "metadata": {
        "id": "o4Ca8QWUtoVc"
      },
      "source": [
        "# Prétraitement des données"
      ]
    },
    {
      "cell_type": "code",
      "metadata": {
        "colab": {
          "base_uri": "https://localhost:8080/"
        },
        "id": "cJAEoVLUdocU",
        "outputId": "7cab5077-c048-4d70-fa55-9aa673aef881"
      },
      "source": [
        "df.select(\"review\").first()"
      ],
      "execution_count": null,
      "outputs": [
        {
          "output_type": "execute_result",
          "data": {
            "text/plain": [
              "Row(review='\"One of the other reviewers has mentioned that after watching just 1 Oz episode you\\'ll be hooked. They are right, as this is exactly what happened with me.<br /><br />The first thing that struck me about Oz was its brutality and unflinching scenes of violence, which set in right from the word GO. Trust me, this is not a show for the faint hearted or timid. This show pulls no punches with regards to drugs, sex or violence. Its is hardcore, in the classic use of the word.<br /><br />It is called OZ as that is the nickname given to the Oswald Maximum Security State Penitentary. It focuses mainly on Emerald City, an experimental section of the prison where all the cells have glass fronts and face inwards, so privacy is not high on the agenda. Em City is home to many..Aryans, Muslims, gangstas, Latinos, Christians, Italians, Irish and more....so scuffles, death stares, dodgy dealings and shady agreements are never far away.<br /><br />I would say the main appeal of the show is due to the fact that it goes where other shows wouldn\\'t dare. Forget pretty pictures painted for mainstream audiences, forget charm, forget romance...OZ doesn\\'t mess around. The first episode I ever saw struck me as so nasty it was surreal, I couldn\\'t say I was ready for it, but as I watched more, I developed a taste for Oz, and got accustomed to the high levels of graphic violence. Not just violence, but injustice (crooked guards who\\'ll be sold out for a nickel, inmates who\\'ll kill on order and get away with it, well mannered, middle class inmates being turned into prison bitches due to their lack of street skills or prison experience) Watching Oz, you may become comfortable with what is uncomfortable viewing....thats if you can get in touch with your darker side.')"
            ]
          },
          "metadata": {
            "tags": []
          },
          "execution_count": 117
        }
      ]
    },
    {
      "cell_type": "markdown",
      "metadata": {
        "id": "4SNLvrC-OgXF"
      },
      "source": [
        "**Convertir le texte de la colonne ‘review’ en vecteur de mots**"
      ]
    },
    {
      "cell_type": "code",
      "metadata": {
        "id": "VeboM85y9lNg"
      },
      "source": [
        "from pyspark.ml.feature import RegexTokenizer"
      ],
      "execution_count": null,
      "outputs": []
    },
    {
      "cell_type": "code",
      "metadata": {
        "id": "8CDe_gGySNiY"
      },
      "source": [
        "tokenizer= RegexTokenizer(inputCol=\"review\",outputCol=\"mots\", pattern=\"\\\\W\", toLowercase=True, gaps=True)"
      ],
      "execution_count": null,
      "outputs": []
    },
    {
      "cell_type": "code",
      "metadata": {
        "id": "plnInjYjhzWW"
      },
      "source": [
        "df=tokenizer.transform(df)"
      ],
      "execution_count": null,
      "outputs": []
    },
    {
      "cell_type": "code",
      "metadata": {
        "id": "4mzrT6mISNe6",
        "colab": {
          "base_uri": "https://localhost:8080/"
        },
        "outputId": "08a0a361-874c-40f9-bc0a-725e33161b3b"
      },
      "source": [
        "df.show(n=2)"
      ],
      "execution_count": null,
      "outputs": [
        {
          "output_type": "stream",
          "text": [
            "+--------------------+---------+--------------------+\n",
            "|              review|sentiment|                mots|\n",
            "+--------------------+---------+--------------------+\n",
            "|\"One of the other...| positive|[one, of, the, ot...|\n",
            "|\"A wonderful litt...| positive|[a, wonderful, li...|\n",
            "+--------------------+---------+--------------------+\n",
            "only showing top 2 rows\n",
            "\n"
          ],
          "name": "stdout"
        }
      ]
    },
    {
      "cell_type": "markdown",
      "metadata": {
        "id": "XfATCPHcOhOt"
      },
      "source": [
        "**Créer une fonction udf permettant de convertir les labels ‘positive’ et ‘negative’ en 1 et 0**\r\n"
      ]
    },
    {
      "cell_type": "code",
      "metadata": {
        "id": "WlF1ke1eOhyi",
        "colab": {
          "base_uri": "https://localhost:8080/"
        },
        "outputId": "cb45b889-baa1-42ec-8eca-5c293bc9c96f"
      },
      "source": [
        "from pyspark.sql.functions import udf\r\n",
        "from pyspark.sql.types import ArrayType, StringType\r\n",
        "\r\n",
        "toNum = lambda label:int((\"0\",\"1\")[label=='positive'])\r\n",
        "toNum = udf(toNum,'int')\r\n",
        "df= df.withColumn('sentiment', toNum(df[\"sentiment\"]))\r\n",
        "df.show()"
      ],
      "execution_count": null,
      "outputs": [
        {
          "output_type": "stream",
          "text": [
            "+--------------------+---------+--------------------+\n",
            "|              review|sentiment|                mots|\n",
            "+--------------------+---------+--------------------+\n",
            "|\"One of the other...|        1|[one, of, the, ot...|\n",
            "|\"A wonderful litt...|        1|[a, wonderful, li...|\n",
            "|\"I thought this w...|        1|[i, thought, this...|\n",
            "|\"Basically there'...|        0|[basically, there...|\n",
            "|\"Petter Mattei's ...|        1|[petter, mattei, ...|\n",
            "|\"Probably my all-...|        1|[probably, my, al...|\n",
            "|\"I sure would lik...|        1|[i, sure, would, ...|\n",
            "|\"This show was an...|        0|[this, show, was,...|\n",
            "|\"Encouraged by th...|        0|[encouraged, by, ...|\n",
            "|\"If you like orig...|        1|[if, you, like, o...|\n",
            "|\"Phil the Alien i...|        0|[phil, the, alien...|\n",
            "|\"I saw this movie...|        0|[i, saw, this, mo...|\n",
            "|\"So im not a big ...|        0|[so, im, not, a, ...|\n",
            "|\"The cast played ...|        0|[the, cast, playe...|\n",
            "|\"Kind of drawn in...|        0|[kind, of, drawn,...|\n",
            "|\"Some films just ...|        1|[some, films, jus...|\n",
            "|\"This movie made ...|        0|[this, movie, mad...|\n",
            "|\"I remember this ...|        1|[i, remember, thi...|\n",
            "|\"An awful film! I...|        0|[an, awful, film,...|\n",
            "|\"After the succes...|        1|[after, the, succ...|\n",
            "+--------------------+---------+--------------------+\n",
            "only showing top 20 rows\n",
            "\n"
          ],
          "name": "stdout"
        }
      ]
    },
    {
      "cell_type": "markdown",
      "metadata": {
        "id": "XzOBMYfWOihS"
      },
      "source": [
        "**Supprimer les stopWords**"
      ]
    },
    {
      "cell_type": "code",
      "metadata": {
        "id": "-1HA98CIOjL_",
        "colab": {
          "base_uri": "https://localhost:8080/"
        },
        "outputId": "f110fbae-7657-401e-a45e-cc015cedb414"
      },
      "source": [
        "from pyspark.ml.feature import StopWordsRemover\r\n",
        "remover = StopWordsRemover(inputCol='mots', outputCol=\"mots_essentiels\")\r\n",
        "df = remover.transform(df)\r\n",
        "df.show(n=2, truncate=False)"
      ],
      "execution_count": null,
      "outputs": [
        {
          "output_type": "stream",
          "text": [
            "+----------------------------------------------------------------------------------------------------------------------------------------------------------------------------------------------------------------------------------------------------------------------------------------------------------------------------------------------------------------------------------------------------------------------------------------------------------------------------------------------------------------------------------------------------------------------------------------------------------------------------------------------------------------------------------------------------------------------------------------------------------------------------------------------------------------------------------------------------------------------------------------------------------------------------------------------------------------------------------------------------------------------------------------------------------------------------------------------------------------------------------------------------------------------------------------------------------------------------------------------------------------------------------------------------------------------------------------------------------------------------------------------------------------------------------------------------------------------------------------------------------------------------------------------------------------------------------------------------------------------------------------------------------------------------------------------------------------------------------------------------------------------------------------------------------------------------------+---------+-------------------------------------------------------------------------------------------------------------------------------------------------------------------------------------------------------------------------------------------------------------------------------------------------------------------------------------------------------------------------------------------------------------------------------------------------------------------------------------------------------------------------------------------------------------------------------------------------------------------------------------------------------------------------------------------------------------------------------------------------------------------------------------------------------------------------------------------------------------------------------------------------------------------------------------------------------------------------------------------------------------------------------------------------------------------------------------------------------------------------------------------------------------------------------------------------------------------------------------------------------------------------------------------------------------------------------------------------------------------------------------------------------------------------------------------------------------------------------------------------------------------------------------------------------------------------------------------------------------------------------------------------------------------------------------------------------------------------------------------------------------------------------------------------------------------------------------------------------------------------------------------------------------------------------------------------------------------------------------------------------------------------------------------------------------------------------------------------+-------------------------------------------------------------------------------------------------------------------------------------------------------------------------------------------------------------------------------------------------------------------------------------------------------------------------------------------------------------------------------------------------------------------------------------------------------------------------------------------------------------------------------------------------------------------------------------------------------------------------------------------------------------------------------------------------------------------------------------------------------------------------------------------------------------------------------------------------------------------------------------------------------------------------------------------------------------------------------------------------------------------------------------------------------------------------------------------------------------------------------------------------------------------------------------------------------------------------------------------------------------------------------------------------------------------------------------------------------------------------+\n",
            "|review                                                                                                                                                                                                                                                                                                                                                                                                                                                                                                                                                                                                                                                                                                                                                                                                                                                                                                                                                                                                                                                                                                                                                                                                                                                                                                                                                                                                                                                                                                                                                                                                                                                                                                                                                                                                                            |sentiment|mots                                                                                                                                                                                                                                                                                                                                                                                                                                                                                                                                                                                                                                                                                                                                                                                                                                                                                                                                                                                                                                                                                                                                                                                                                                                                                                                                                                                                                                                                                                                                                                                                                                                                                                                                                                                                                                                                                                                                                                                                                                                                                             |mots_essentiels                                                                                                                                                                                                                                                                                                                                                                                                                                                                                                                                                                                                                                                                                                                                                                                                                                                                                                                                                                                                                                                                                                                                                                                                                                                                                                                                                          |\n",
            "+----------------------------------------------------------------------------------------------------------------------------------------------------------------------------------------------------------------------------------------------------------------------------------------------------------------------------------------------------------------------------------------------------------------------------------------------------------------------------------------------------------------------------------------------------------------------------------------------------------------------------------------------------------------------------------------------------------------------------------------------------------------------------------------------------------------------------------------------------------------------------------------------------------------------------------------------------------------------------------------------------------------------------------------------------------------------------------------------------------------------------------------------------------------------------------------------------------------------------------------------------------------------------------------------------------------------------------------------------------------------------------------------------------------------------------------------------------------------------------------------------------------------------------------------------------------------------------------------------------------------------------------------------------------------------------------------------------------------------------------------------------------------------------------------------------------------------------+---------+-------------------------------------------------------------------------------------------------------------------------------------------------------------------------------------------------------------------------------------------------------------------------------------------------------------------------------------------------------------------------------------------------------------------------------------------------------------------------------------------------------------------------------------------------------------------------------------------------------------------------------------------------------------------------------------------------------------------------------------------------------------------------------------------------------------------------------------------------------------------------------------------------------------------------------------------------------------------------------------------------------------------------------------------------------------------------------------------------------------------------------------------------------------------------------------------------------------------------------------------------------------------------------------------------------------------------------------------------------------------------------------------------------------------------------------------------------------------------------------------------------------------------------------------------------------------------------------------------------------------------------------------------------------------------------------------------------------------------------------------------------------------------------------------------------------------------------------------------------------------------------------------------------------------------------------------------------------------------------------------------------------------------------------------------------------------------------------------------+-------------------------------------------------------------------------------------------------------------------------------------------------------------------------------------------------------------------------------------------------------------------------------------------------------------------------------------------------------------------------------------------------------------------------------------------------------------------------------------------------------------------------------------------------------------------------------------------------------------------------------------------------------------------------------------------------------------------------------------------------------------------------------------------------------------------------------------------------------------------------------------------------------------------------------------------------------------------------------------------------------------------------------------------------------------------------------------------------------------------------------------------------------------------------------------------------------------------------------------------------------------------------------------------------------------------------------------------------------------------------+\n",
            "|\"One of the other reviewers has mentioned that after watching just 1 Oz episode you'll be hooked. They are right, as this is exactly what happened with me.<br /><br />The first thing that struck me about Oz was its brutality and unflinching scenes of violence, which set in right from the word GO. Trust me, this is not a show for the faint hearted or timid. This show pulls no punches with regards to drugs, sex or violence. Its is hardcore, in the classic use of the word.<br /><br />It is called OZ as that is the nickname given to the Oswald Maximum Security State Penitentary. It focuses mainly on Emerald City, an experimental section of the prison where all the cells have glass fronts and face inwards, so privacy is not high on the agenda. Em City is home to many..Aryans, Muslims, gangstas, Latinos, Christians, Italians, Irish and more....so scuffles, death stares, dodgy dealings and shady agreements are never far away.<br /><br />I would say the main appeal of the show is due to the fact that it goes where other shows wouldn't dare. Forget pretty pictures painted for mainstream audiences, forget charm, forget romance...OZ doesn't mess around. The first episode I ever saw struck me as so nasty it was surreal, I couldn't say I was ready for it, but as I watched more, I developed a taste for Oz, and got accustomed to the high levels of graphic violence. Not just violence, but injustice (crooked guards who'll be sold out for a nickel, inmates who'll kill on order and get away with it, well mannered, middle class inmates being turned into prison bitches due to their lack of street skills or prison experience) Watching Oz, you may become comfortable with what is uncomfortable viewing....thats if you can get in touch with your darker side.|1        |[one, of, the, other, reviewers, has, mentioned, that, after, watching, just, 1, oz, episode, you, ll, be, hooked, they, are, right, as, this, is, exactly, what, happened, with, me, br, br, the, first, thing, that, struck, me, about, oz, was, its, brutality, and, unflinching, scenes, of, violence, which, set, in, right, from, the, word, go, trust, me, this, is, not, a, show, for, the, faint, hearted, or, timid, this, show, pulls, no, punches, with, regards, to, drugs, sex, or, violence, its, is, hardcore, in, the, classic, use, of, the, word, br, br, it, is, called, oz, as, that, is, the, nickname, given, to, the, oswald, maximum, security, state, penitentary, it, focuses, mainly, on, emerald, city, an, experimental, section, of, the, prison, where, all, the, cells, have, glass, fronts, and, face, inwards, so, privacy, is, not, high, on, the, agenda, em, city, is, home, to, many, aryans, muslims, gangstas, latinos, christians, italians, irish, and, more, so, scuffles, death, stares, dodgy, dealings, and, shady, agreements, are, never, far, away, br, br, i, would, say, the, main, appeal, of, the, show, is, due, to, the, fact, that, it, goes, where, other, shows, wouldn, t, dare, forget, pretty, pictures, painted, for, mainstream, audiences, forget, charm, forget, romance, oz, doesn, t, mess, around, the, first, episode, i, ever, saw, struck, me, as, so, nasty, it, was, surreal, i, couldn, t, say, i, was, ready, for, it, but, as, i, watched, more, i, developed, a, taste, for, oz, and, got, accustomed, to, the, high, levels, of, graphic, violence, not, just, violence, but, injustice, crooked, guards, who, ll, be, sold, out, for, a, nickel, inmates, who, ll, kill, on, order, and, get, away, with, it, well, mannered, middle, class, inmates, being, turned, into, prison, bitches, due, to, their, lack, of, street, skills, or, prison, experience, watching, oz, you, may, become, comfortable, with, what, is, uncomfortable, viewing, thats, if, you, can, get, in, touch, with, your, darker, side]|[one, reviewers, mentioned, watching, 1, oz, episode, ll, hooked, right, exactly, happened, br, br, first, thing, struck, oz, brutality, unflinching, scenes, violence, set, right, word, go, trust, show, faint, hearted, timid, show, pulls, punches, regards, drugs, sex, violence, hardcore, classic, use, word, br, br, called, oz, nickname, given, oswald, maximum, security, state, penitentary, focuses, mainly, emerald, city, experimental, section, prison, cells, glass, fronts, face, inwards, privacy, high, agenda, em, city, home, many, aryans, muslims, gangstas, latinos, christians, italians, irish, scuffles, death, stares, dodgy, dealings, shady, agreements, never, far, away, br, br, say, main, appeal, show, due, fact, goes, shows, wouldn, dare, forget, pretty, pictures, painted, mainstream, audiences, forget, charm, forget, romance, oz, doesn, mess, around, first, episode, ever, saw, struck, nasty, surreal, couldn, say, ready, watched, developed, taste, oz, got, accustomed, high, levels, graphic, violence, violence, injustice, crooked, guards, ll, sold, nickel, inmates, ll, kill, order, get, away, well, mannered, middle, class, inmates, turned, prison, bitches, due, lack, street, skills, prison, experience, watching, oz, may, become, comfortable, uncomfortable, viewing, thats, get, touch, darker, side]|\n",
            "|\"A wonderful little production. <br /><br />The filming technique is very unassuming- very old-time-BBC fashion and gives a comforting, and sometimes discomforting, sense of realism to the entire piece. <br /><br />The actors are extremely well chosen- Michael Sheen not only \"\"has got all the polari\"\" but he has all the voices down pat too! You can truly see the seamless editing guided by the references to Williams' diary entries, not only is it well worth the watching but it is a terrificly written and performed piece. A masterful production about one of the great master's of comedy and his life. <br /><br />The realism really comes home with the little things: the fantasy of the guard which, rather than use the traditional 'dream' techniques remains solid then disappears. It plays on our knowledge and our senses, particularly with the scenes concerning Orton and Halliwell and the sets (particularly of their flat with Halliwell's murals decorating every surface) are terribly well done.                                                                                                                                                                                                                                                                                                                                                                                                                                                                                                                                                                                                                                                                                                                                                                                         |1        |[a, wonderful, little, production, br, br, the, filming, technique, is, very, unassuming, very, old, time, bbc, fashion, and, gives, a, comforting, and, sometimes, discomforting, sense, of, realism, to, the, entire, piece, br, br, the, actors, are, extremely, well, chosen, michael, sheen, not, only, has, got, all, the, polari, but, he, has, all, the, voices, down, pat, too, you, can, truly, see, the, seamless, editing, guided, by, the, references, to, williams, diary, entries, not, only, is, it, well, worth, the, watching, but, it, is, a, terrificly, written, and, performed, piece, a, masterful, production, about, one, of, the, great, master, s, of, comedy, and, his, life, br, br, the, realism, really, comes, home, with, the, little, things, the, fantasy, of, the, guard, which, rather, than, use, the, traditional, dream, techniques, remains, solid, then, disappears, it, plays, on, our, knowledge, and, our, senses, particularly, with, the, scenes, concerning, orton, and, halliwell, and, the, sets, particularly, of, their, flat, with, halliwell, s, murals, decorating, every, surface, are, terribly, well, done]                                                                                                                                                                                                                                                                                                                                                                                                                                                                                                                                                                                                                                                                                                                                                                                                                                                                                                                            |[wonderful, little, production, br, br, filming, technique, unassuming, old, time, bbc, fashion, gives, comforting, sometimes, discomforting, sense, realism, entire, piece, br, br, actors, extremely, well, chosen, michael, sheen, got, polari, voices, pat, truly, see, seamless, editing, guided, references, williams, diary, entries, well, worth, watching, terrificly, written, performed, piece, masterful, production, one, great, master, comedy, life, br, br, realism, really, comes, home, little, things, fantasy, guard, rather, use, traditional, dream, techniques, remains, solid, disappears, plays, knowledge, senses, particularly, scenes, concerning, orton, halliwell, sets, particularly, flat, halliwell, murals, decorating, every, surface, terribly, well, done]                                                                                                                                                                                                                                                                                                                                                                                                                                                                                                                                                                          |\n",
            "+----------------------------------------------------------------------------------------------------------------------------------------------------------------------------------------------------------------------------------------------------------------------------------------------------------------------------------------------------------------------------------------------------------------------------------------------------------------------------------------------------------------------------------------------------------------------------------------------------------------------------------------------------------------------------------------------------------------------------------------------------------------------------------------------------------------------------------------------------------------------------------------------------------------------------------------------------------------------------------------------------------------------------------------------------------------------------------------------------------------------------------------------------------------------------------------------------------------------------------------------------------------------------------------------------------------------------------------------------------------------------------------------------------------------------------------------------------------------------------------------------------------------------------------------------------------------------------------------------------------------------------------------------------------------------------------------------------------------------------------------------------------------------------------------------------------------------------+---------+-------------------------------------------------------------------------------------------------------------------------------------------------------------------------------------------------------------------------------------------------------------------------------------------------------------------------------------------------------------------------------------------------------------------------------------------------------------------------------------------------------------------------------------------------------------------------------------------------------------------------------------------------------------------------------------------------------------------------------------------------------------------------------------------------------------------------------------------------------------------------------------------------------------------------------------------------------------------------------------------------------------------------------------------------------------------------------------------------------------------------------------------------------------------------------------------------------------------------------------------------------------------------------------------------------------------------------------------------------------------------------------------------------------------------------------------------------------------------------------------------------------------------------------------------------------------------------------------------------------------------------------------------------------------------------------------------------------------------------------------------------------------------------------------------------------------------------------------------------------------------------------------------------------------------------------------------------------------------------------------------------------------------------------------------------------------------------------------------+-------------------------------------------------------------------------------------------------------------------------------------------------------------------------------------------------------------------------------------------------------------------------------------------------------------------------------------------------------------------------------------------------------------------------------------------------------------------------------------------------------------------------------------------------------------------------------------------------------------------------------------------------------------------------------------------------------------------------------------------------------------------------------------------------------------------------------------------------------------------------------------------------------------------------------------------------------------------------------------------------------------------------------------------------------------------------------------------------------------------------------------------------------------------------------------------------------------------------------------------------------------------------------------------------------------------------------------------------------------------------+\n",
            "only showing top 2 rows\n",
            "\n"
          ],
          "name": "stdout"
        }
      ]
    },
    {
      "cell_type": "code",
      "metadata": {
        "colab": {
          "base_uri": "https://localhost:8080/"
        },
        "id": "r6Sbzky5oXEd",
        "outputId": "4f684cf6-c025-43b0-90d0-9dc7f2780c66"
      },
      "source": [
        "df.show(n=2, truncate=False)"
      ],
      "execution_count": null,
      "outputs": [
        {
          "output_type": "stream",
          "text": [
            "+----------------------------------------------------------------------------------------------------------------------------------------------------------------------------------------------------------------------------------------------------------------------------------------------------------------------------------------------------------------------------------------------------------------------------------------------------------------------------------------------------------------------------------------------------------------------------------------------------------------------------------------------------------------------------------------------------------------------------------------------------------------------------------------------------------------------------------------------------------------------------------------------------------------------------------------------------------------------------------------------------------------------------------------------------------------------------------------------------------------------------------------------------------------------------------------------------------------------------------------------------------------------------------------------------------------------------------------------------------------------------------------------------------------------------------------------------------------------------------------------------------------------------------------------------------------------------------------------------------------------------------------------------------------------------------------------------------------------------------------------------------------------------------------------------------------------------------+---------+-------------------------------------------------------------------------------------------------------------------------------------------------------------------------------------------------------------------------------------------------------------------------------------------------------------------------------------------------------------------------------------------------------------------------------------------------------------------------------------------------------------------------------------------------------------------------------------------------------------------------------------------------------------------------------------------------------------------------------------------------------------------------------------------------------------------------------------------------------------------------------------------------------------------------------------------------------------------------------------------------------------------------------------------------------------------------------------------------------------------------------------------------------------------------------------------------------------------------------------------------------------------------------------------------------------------------------------------------------------------------------------------------------------------------------------------------------------------------------------------------------------------------------------------------------------------------------------------------------------------------------------------------------------------------------------------------------------------------------------------------------------------------------------------------------------------------------------------------------------------------------------------------------------------------------------------------------------------------------------------------------------------------------------------------------------------------------------------------+-------------------------------------------------------------------------------------------------------------------------------------------------------------------------------------------------------------------------------------------------------------------------------------------------------------------------------------------------------------------------------------------------------------------------------------------------------------------------------------------------------------------------------------------------------------------------------------------------------------------------------------------------------------------------------------------------------------------------------------------------------------------------------------------------------------------------------------------------------------------------------------------------------------------------------------------------------------------------------------------------------------------------------------------------------------------------------------------------------------------------------------------------------------------------------------------------------------------------------------------------------------------------------------------------------------------------------------------------------------------------+\n",
            "|review                                                                                                                                                                                                                                                                                                                                                                                                                                                                                                                                                                                                                                                                                                                                                                                                                                                                                                                                                                                                                                                                                                                                                                                                                                                                                                                                                                                                                                                                                                                                                                                                                                                                                                                                                                                                                            |sentiment|mots                                                                                                                                                                                                                                                                                                                                                                                                                                                                                                                                                                                                                                                                                                                                                                                                                                                                                                                                                                                                                                                                                                                                                                                                                                                                                                                                                                                                                                                                                                                                                                                                                                                                                                                                                                                                                                                                                                                                                                                                                                                                                             |mots_essentiels                                                                                                                                                                                                                                                                                                                                                                                                                                                                                                                                                                                                                                                                                                                                                                                                                                                                                                                                                                                                                                                                                                                                                                                                                                                                                                                                                          |\n",
            "+----------------------------------------------------------------------------------------------------------------------------------------------------------------------------------------------------------------------------------------------------------------------------------------------------------------------------------------------------------------------------------------------------------------------------------------------------------------------------------------------------------------------------------------------------------------------------------------------------------------------------------------------------------------------------------------------------------------------------------------------------------------------------------------------------------------------------------------------------------------------------------------------------------------------------------------------------------------------------------------------------------------------------------------------------------------------------------------------------------------------------------------------------------------------------------------------------------------------------------------------------------------------------------------------------------------------------------------------------------------------------------------------------------------------------------------------------------------------------------------------------------------------------------------------------------------------------------------------------------------------------------------------------------------------------------------------------------------------------------------------------------------------------------------------------------------------------------+---------+-------------------------------------------------------------------------------------------------------------------------------------------------------------------------------------------------------------------------------------------------------------------------------------------------------------------------------------------------------------------------------------------------------------------------------------------------------------------------------------------------------------------------------------------------------------------------------------------------------------------------------------------------------------------------------------------------------------------------------------------------------------------------------------------------------------------------------------------------------------------------------------------------------------------------------------------------------------------------------------------------------------------------------------------------------------------------------------------------------------------------------------------------------------------------------------------------------------------------------------------------------------------------------------------------------------------------------------------------------------------------------------------------------------------------------------------------------------------------------------------------------------------------------------------------------------------------------------------------------------------------------------------------------------------------------------------------------------------------------------------------------------------------------------------------------------------------------------------------------------------------------------------------------------------------------------------------------------------------------------------------------------------------------------------------------------------------------------------------+-------------------------------------------------------------------------------------------------------------------------------------------------------------------------------------------------------------------------------------------------------------------------------------------------------------------------------------------------------------------------------------------------------------------------------------------------------------------------------------------------------------------------------------------------------------------------------------------------------------------------------------------------------------------------------------------------------------------------------------------------------------------------------------------------------------------------------------------------------------------------------------------------------------------------------------------------------------------------------------------------------------------------------------------------------------------------------------------------------------------------------------------------------------------------------------------------------------------------------------------------------------------------------------------------------------------------------------------------------------------------+\n",
            "|\"One of the other reviewers has mentioned that after watching just 1 Oz episode you'll be hooked. They are right, as this is exactly what happened with me.<br /><br />The first thing that struck me about Oz was its brutality and unflinching scenes of violence, which set in right from the word GO. Trust me, this is not a show for the faint hearted or timid. This show pulls no punches with regards to drugs, sex or violence. Its is hardcore, in the classic use of the word.<br /><br />It is called OZ as that is the nickname given to the Oswald Maximum Security State Penitentary. It focuses mainly on Emerald City, an experimental section of the prison where all the cells have glass fronts and face inwards, so privacy is not high on the agenda. Em City is home to many..Aryans, Muslims, gangstas, Latinos, Christians, Italians, Irish and more....so scuffles, death stares, dodgy dealings and shady agreements are never far away.<br /><br />I would say the main appeal of the show is due to the fact that it goes where other shows wouldn't dare. Forget pretty pictures painted for mainstream audiences, forget charm, forget romance...OZ doesn't mess around. The first episode I ever saw struck me as so nasty it was surreal, I couldn't say I was ready for it, but as I watched more, I developed a taste for Oz, and got accustomed to the high levels of graphic violence. Not just violence, but injustice (crooked guards who'll be sold out for a nickel, inmates who'll kill on order and get away with it, well mannered, middle class inmates being turned into prison bitches due to their lack of street skills or prison experience) Watching Oz, you may become comfortable with what is uncomfortable viewing....thats if you can get in touch with your darker side.|1        |[one, of, the, other, reviewers, has, mentioned, that, after, watching, just, 1, oz, episode, you, ll, be, hooked, they, are, right, as, this, is, exactly, what, happened, with, me, br, br, the, first, thing, that, struck, me, about, oz, was, its, brutality, and, unflinching, scenes, of, violence, which, set, in, right, from, the, word, go, trust, me, this, is, not, a, show, for, the, faint, hearted, or, timid, this, show, pulls, no, punches, with, regards, to, drugs, sex, or, violence, its, is, hardcore, in, the, classic, use, of, the, word, br, br, it, is, called, oz, as, that, is, the, nickname, given, to, the, oswald, maximum, security, state, penitentary, it, focuses, mainly, on, emerald, city, an, experimental, section, of, the, prison, where, all, the, cells, have, glass, fronts, and, face, inwards, so, privacy, is, not, high, on, the, agenda, em, city, is, home, to, many, aryans, muslims, gangstas, latinos, christians, italians, irish, and, more, so, scuffles, death, stares, dodgy, dealings, and, shady, agreements, are, never, far, away, br, br, i, would, say, the, main, appeal, of, the, show, is, due, to, the, fact, that, it, goes, where, other, shows, wouldn, t, dare, forget, pretty, pictures, painted, for, mainstream, audiences, forget, charm, forget, romance, oz, doesn, t, mess, around, the, first, episode, i, ever, saw, struck, me, as, so, nasty, it, was, surreal, i, couldn, t, say, i, was, ready, for, it, but, as, i, watched, more, i, developed, a, taste, for, oz, and, got, accustomed, to, the, high, levels, of, graphic, violence, not, just, violence, but, injustice, crooked, guards, who, ll, be, sold, out, for, a, nickel, inmates, who, ll, kill, on, order, and, get, away, with, it, well, mannered, middle, class, inmates, being, turned, into, prison, bitches, due, to, their, lack, of, street, skills, or, prison, experience, watching, oz, you, may, become, comfortable, with, what, is, uncomfortable, viewing, thats, if, you, can, get, in, touch, with, your, darker, side]|[one, reviewers, mentioned, watching, 1, oz, episode, ll, hooked, right, exactly, happened, br, br, first, thing, struck, oz, brutality, unflinching, scenes, violence, set, right, word, go, trust, show, faint, hearted, timid, show, pulls, punches, regards, drugs, sex, violence, hardcore, classic, use, word, br, br, called, oz, nickname, given, oswald, maximum, security, state, penitentary, focuses, mainly, emerald, city, experimental, section, prison, cells, glass, fronts, face, inwards, privacy, high, agenda, em, city, home, many, aryans, muslims, gangstas, latinos, christians, italians, irish, scuffles, death, stares, dodgy, dealings, shady, agreements, never, far, away, br, br, say, main, appeal, show, due, fact, goes, shows, wouldn, dare, forget, pretty, pictures, painted, mainstream, audiences, forget, charm, forget, romance, oz, doesn, mess, around, first, episode, ever, saw, struck, nasty, surreal, couldn, say, ready, watched, developed, taste, oz, got, accustomed, high, levels, graphic, violence, violence, injustice, crooked, guards, ll, sold, nickel, inmates, ll, kill, order, get, away, well, mannered, middle, class, inmates, turned, prison, bitches, due, lack, street, skills, prison, experience, watching, oz, may, become, comfortable, uncomfortable, viewing, thats, get, touch, darker, side]|\n",
            "|\"A wonderful little production. <br /><br />The filming technique is very unassuming- very old-time-BBC fashion and gives a comforting, and sometimes discomforting, sense of realism to the entire piece. <br /><br />The actors are extremely well chosen- Michael Sheen not only \"\"has got all the polari\"\" but he has all the voices down pat too! You can truly see the seamless editing guided by the references to Williams' diary entries, not only is it well worth the watching but it is a terrificly written and performed piece. A masterful production about one of the great master's of comedy and his life. <br /><br />The realism really comes home with the little things: the fantasy of the guard which, rather than use the traditional 'dream' techniques remains solid then disappears. It plays on our knowledge and our senses, particularly with the scenes concerning Orton and Halliwell and the sets (particularly of their flat with Halliwell's murals decorating every surface) are terribly well done.                                                                                                                                                                                                                                                                                                                                                                                                                                                                                                                                                                                                                                                                                                                                                                                         |1        |[a, wonderful, little, production, br, br, the, filming, technique, is, very, unassuming, very, old, time, bbc, fashion, and, gives, a, comforting, and, sometimes, discomforting, sense, of, realism, to, the, entire, piece, br, br, the, actors, are, extremely, well, chosen, michael, sheen, not, only, has, got, all, the, polari, but, he, has, all, the, voices, down, pat, too, you, can, truly, see, the, seamless, editing, guided, by, the, references, to, williams, diary, entries, not, only, is, it, well, worth, the, watching, but, it, is, a, terrificly, written, and, performed, piece, a, masterful, production, about, one, of, the, great, master, s, of, comedy, and, his, life, br, br, the, realism, really, comes, home, with, the, little, things, the, fantasy, of, the, guard, which, rather, than, use, the, traditional, dream, techniques, remains, solid, then, disappears, it, plays, on, our, knowledge, and, our, senses, particularly, with, the, scenes, concerning, orton, and, halliwell, and, the, sets, particularly, of, their, flat, with, halliwell, s, murals, decorating, every, surface, are, terribly, well, done]                                                                                                                                                                                                                                                                                                                                                                                                                                                                                                                                                                                                                                                                                                                                                                                                                                                                                                                            |[wonderful, little, production, br, br, filming, technique, unassuming, old, time, bbc, fashion, gives, comforting, sometimes, discomforting, sense, realism, entire, piece, br, br, actors, extremely, well, chosen, michael, sheen, got, polari, voices, pat, truly, see, seamless, editing, guided, references, williams, diary, entries, well, worth, watching, terrificly, written, performed, piece, masterful, production, one, great, master, comedy, life, br, br, realism, really, comes, home, little, things, fantasy, guard, rather, use, traditional, dream, techniques, remains, solid, disappears, plays, knowledge, senses, particularly, scenes, concerning, orton, halliwell, sets, particularly, flat, halliwell, murals, decorating, every, surface, terribly, well, done]                                                                                                                                                                                                                                                                                                                                                                                                                                                                                                                                                                          |\n",
            "+----------------------------------------------------------------------------------------------------------------------------------------------------------------------------------------------------------------------------------------------------------------------------------------------------------------------------------------------------------------------------------------------------------------------------------------------------------------------------------------------------------------------------------------------------------------------------------------------------------------------------------------------------------------------------------------------------------------------------------------------------------------------------------------------------------------------------------------------------------------------------------------------------------------------------------------------------------------------------------------------------------------------------------------------------------------------------------------------------------------------------------------------------------------------------------------------------------------------------------------------------------------------------------------------------------------------------------------------------------------------------------------------------------------------------------------------------------------------------------------------------------------------------------------------------------------------------------------------------------------------------------------------------------------------------------------------------------------------------------------------------------------------------------------------------------------------------------+---------+-------------------------------------------------------------------------------------------------------------------------------------------------------------------------------------------------------------------------------------------------------------------------------------------------------------------------------------------------------------------------------------------------------------------------------------------------------------------------------------------------------------------------------------------------------------------------------------------------------------------------------------------------------------------------------------------------------------------------------------------------------------------------------------------------------------------------------------------------------------------------------------------------------------------------------------------------------------------------------------------------------------------------------------------------------------------------------------------------------------------------------------------------------------------------------------------------------------------------------------------------------------------------------------------------------------------------------------------------------------------------------------------------------------------------------------------------------------------------------------------------------------------------------------------------------------------------------------------------------------------------------------------------------------------------------------------------------------------------------------------------------------------------------------------------------------------------------------------------------------------------------------------------------------------------------------------------------------------------------------------------------------------------------------------------------------------------------------------------+-------------------------------------------------------------------------------------------------------------------------------------------------------------------------------------------------------------------------------------------------------------------------------------------------------------------------------------------------------------------------------------------------------------------------------------------------------------------------------------------------------------------------------------------------------------------------------------------------------------------------------------------------------------------------------------------------------------------------------------------------------------------------------------------------------------------------------------------------------------------------------------------------------------------------------------------------------------------------------------------------------------------------------------------------------------------------------------------------------------------------------------------------------------------------------------------------------------------------------------------------------------------------------------------------------------------------------------------------------------------------+\n",
            "only showing top 2 rows\n",
            "\n"
          ],
          "name": "stdout"
        }
      ]
    },
    {
      "cell_type": "markdown",
      "metadata": {
        "id": "sqKkL5gWO4Vj"
      },
      "source": [
        "**Créer une fonction udf permettant de supprimer les caractères spéciaux et les mots de longueur inférieure à 3**\r\n"
      ]
    },
    {
      "cell_type": "code",
      "metadata": {
        "colab": {
          "base_uri": "https://localhost:8080/"
        },
        "id": "xAZMnXXepmTu",
        "outputId": "8cf85468-e6f5-4069-9006-1795044563db"
      },
      "source": [
        "cleaner = lambda mots: [w for w in mots if (w.isalpha()==True and len(w)>2)]\r\n",
        "cleaner = udf(cleaner, ArrayType(StringType()))\r\n",
        "df = df.withColumn('mots_essentiels', cleaner(df[\"mots_essentiels\"]))\r\n",
        "df.show(n=2, truncate=False)"
      ],
      "execution_count": null,
      "outputs": [
        {
          "output_type": "stream",
          "text": [
            "+----------------------------------------------------------------------------------------------------------------------------------------------------------------------------------------------------------------------------------------------------------------------------------------------------------------------------------------------------------------------------------------------------------------------------------------------------------------------------------------------------------------------------------------------------------------------------------------------------------------------------------------------------------------------------------------------------------------------------------------------------------------------------------------------------------------------------------------------------------------------------------------------------------------------------------------------------------------------------------------------------------------------------------------------------------------------------------------------------------------------------------------------------------------------------------------------------------------------------------------------------------------------------------------------------------------------------------------------------------------------------------------------------------------------------------------------------------------------------------------------------------------------------------------------------------------------------------------------------------------------------------------------------------------------------------------------------------------------------------------------------------------------------------------------------------------------------------+---------+-------------------------------------------------------------------------------------------------------------------------------------------------------------------------------------------------------------------------------------------------------------------------------------------------------------------------------------------------------------------------------------------------------------------------------------------------------------------------------------------------------------------------------------------------------------------------------------------------------------------------------------------------------------------------------------------------------------------------------------------------------------------------------------------------------------------------------------------------------------------------------------------------------------------------------------------------------------------------------------------------------------------------------------------------------------------------------------------------------------------------------------------------------------------------------------------------------------------------------------------------------------------------------------------------------------------------------------------------------------------------------------------------------------------------------------------------------------------------------------------------------------------------------------------------------------------------------------------------------------------------------------------------------------------------------------------------------------------------------------------------------------------------------------------------------------------------------------------------------------------------------------------------------------------------------------------------------------------------------------------------------------------------------------------------------------------------------------------------+--------------------------------------------------------------------------------------------------------------------------------------------------------------------------------------------------------------------------------------------------------------------------------------------------------------------------------------------------------------------------------------------------------------------------------------------------------------------------------------------------------------------------------------------------------------------------------------------------------------------------------------------------------------------------------------------------------------------------------------------------------------------------------------------------------------------------------------------------------------------------------------------------------------------------------------------------------------------------------------------------------------------------------------------------------------------------------------------------------------------------------------------------------------------------------------------------------------------------------------------------------------------------------------------------+\n",
            "|review                                                                                                                                                                                                                                                                                                                                                                                                                                                                                                                                                                                                                                                                                                                                                                                                                                                                                                                                                                                                                                                                                                                                                                                                                                                                                                                                                                                                                                                                                                                                                                                                                                                                                                                                                                                                                            |sentiment|mots                                                                                                                                                                                                                                                                                                                                                                                                                                                                                                                                                                                                                                                                                                                                                                                                                                                                                                                                                                                                                                                                                                                                                                                                                                                                                                                                                                                                                                                                                                                                                                                                                                                                                                                                                                                                                                                                                                                                                                                                                                                                                             |mots_essentiels                                                                                                                                                                                                                                                                                                                                                                                                                                                                                                                                                                                                                                                                                                                                                                                                                                                                                                                                                                                                                                                                                                                                                                                                                                                                                   |\n",
            "+----------------------------------------------------------------------------------------------------------------------------------------------------------------------------------------------------------------------------------------------------------------------------------------------------------------------------------------------------------------------------------------------------------------------------------------------------------------------------------------------------------------------------------------------------------------------------------------------------------------------------------------------------------------------------------------------------------------------------------------------------------------------------------------------------------------------------------------------------------------------------------------------------------------------------------------------------------------------------------------------------------------------------------------------------------------------------------------------------------------------------------------------------------------------------------------------------------------------------------------------------------------------------------------------------------------------------------------------------------------------------------------------------------------------------------------------------------------------------------------------------------------------------------------------------------------------------------------------------------------------------------------------------------------------------------------------------------------------------------------------------------------------------------------------------------------------------------+---------+-------------------------------------------------------------------------------------------------------------------------------------------------------------------------------------------------------------------------------------------------------------------------------------------------------------------------------------------------------------------------------------------------------------------------------------------------------------------------------------------------------------------------------------------------------------------------------------------------------------------------------------------------------------------------------------------------------------------------------------------------------------------------------------------------------------------------------------------------------------------------------------------------------------------------------------------------------------------------------------------------------------------------------------------------------------------------------------------------------------------------------------------------------------------------------------------------------------------------------------------------------------------------------------------------------------------------------------------------------------------------------------------------------------------------------------------------------------------------------------------------------------------------------------------------------------------------------------------------------------------------------------------------------------------------------------------------------------------------------------------------------------------------------------------------------------------------------------------------------------------------------------------------------------------------------------------------------------------------------------------------------------------------------------------------------------------------------------------------+--------------------------------------------------------------------------------------------------------------------------------------------------------------------------------------------------------------------------------------------------------------------------------------------------------------------------------------------------------------------------------------------------------------------------------------------------------------------------------------------------------------------------------------------------------------------------------------------------------------------------------------------------------------------------------------------------------------------------------------------------------------------------------------------------------------------------------------------------------------------------------------------------------------------------------------------------------------------------------------------------------------------------------------------------------------------------------------------------------------------------------------------------------------------------------------------------------------------------------------------------------------------------------------------------+\n",
            "|\"One of the other reviewers has mentioned that after watching just 1 Oz episode you'll be hooked. They are right, as this is exactly what happened with me.<br /><br />The first thing that struck me about Oz was its brutality and unflinching scenes of violence, which set in right from the word GO. Trust me, this is not a show for the faint hearted or timid. This show pulls no punches with regards to drugs, sex or violence. Its is hardcore, in the classic use of the word.<br /><br />It is called OZ as that is the nickname given to the Oswald Maximum Security State Penitentary. It focuses mainly on Emerald City, an experimental section of the prison where all the cells have glass fronts and face inwards, so privacy is not high on the agenda. Em City is home to many..Aryans, Muslims, gangstas, Latinos, Christians, Italians, Irish and more....so scuffles, death stares, dodgy dealings and shady agreements are never far away.<br /><br />I would say the main appeal of the show is due to the fact that it goes where other shows wouldn't dare. Forget pretty pictures painted for mainstream audiences, forget charm, forget romance...OZ doesn't mess around. The first episode I ever saw struck me as so nasty it was surreal, I couldn't say I was ready for it, but as I watched more, I developed a taste for Oz, and got accustomed to the high levels of graphic violence. Not just violence, but injustice (crooked guards who'll be sold out for a nickel, inmates who'll kill on order and get away with it, well mannered, middle class inmates being turned into prison bitches due to their lack of street skills or prison experience) Watching Oz, you may become comfortable with what is uncomfortable viewing....thats if you can get in touch with your darker side.|1        |[one, of, the, other, reviewers, has, mentioned, that, after, watching, just, 1, oz, episode, you, ll, be, hooked, they, are, right, as, this, is, exactly, what, happened, with, me, br, br, the, first, thing, that, struck, me, about, oz, was, its, brutality, and, unflinching, scenes, of, violence, which, set, in, right, from, the, word, go, trust, me, this, is, not, a, show, for, the, faint, hearted, or, timid, this, show, pulls, no, punches, with, regards, to, drugs, sex, or, violence, its, is, hardcore, in, the, classic, use, of, the, word, br, br, it, is, called, oz, as, that, is, the, nickname, given, to, the, oswald, maximum, security, state, penitentary, it, focuses, mainly, on, emerald, city, an, experimental, section, of, the, prison, where, all, the, cells, have, glass, fronts, and, face, inwards, so, privacy, is, not, high, on, the, agenda, em, city, is, home, to, many, aryans, muslims, gangstas, latinos, christians, italians, irish, and, more, so, scuffles, death, stares, dodgy, dealings, and, shady, agreements, are, never, far, away, br, br, i, would, say, the, main, appeal, of, the, show, is, due, to, the, fact, that, it, goes, where, other, shows, wouldn, t, dare, forget, pretty, pictures, painted, for, mainstream, audiences, forget, charm, forget, romance, oz, doesn, t, mess, around, the, first, episode, i, ever, saw, struck, me, as, so, nasty, it, was, surreal, i, couldn, t, say, i, was, ready, for, it, but, as, i, watched, more, i, developed, a, taste, for, oz, and, got, accustomed, to, the, high, levels, of, graphic, violence, not, just, violence, but, injustice, crooked, guards, who, ll, be, sold, out, for, a, nickel, inmates, who, ll, kill, on, order, and, get, away, with, it, well, mannered, middle, class, inmates, being, turned, into, prison, bitches, due, to, their, lack, of, street, skills, or, prison, experience, watching, oz, you, may, become, comfortable, with, what, is, uncomfortable, viewing, thats, if, you, can, get, in, touch, with, your, darker, side]|[one, reviewers, mentioned, watching, episode, hooked, right, exactly, happened, first, thing, struck, brutality, unflinching, scenes, violence, set, right, word, trust, show, faint, hearted, timid, show, pulls, punches, regards, drugs, sex, violence, hardcore, classic, use, word, called, nickname, given, oswald, maximum, security, state, penitentary, focuses, mainly, emerald, city, experimental, section, prison, cells, glass, fronts, face, inwards, privacy, high, agenda, city, home, many, aryans, muslims, gangstas, latinos, christians, italians, irish, scuffles, death, stares, dodgy, dealings, shady, agreements, never, far, away, say, main, appeal, show, due, fact, goes, shows, wouldn, dare, forget, pretty, pictures, painted, mainstream, audiences, forget, charm, forget, romance, doesn, mess, around, first, episode, ever, saw, struck, nasty, surreal, couldn, say, ready, watched, developed, taste, got, accustomed, high, levels, graphic, violence, violence, injustice, crooked, guards, sold, nickel, inmates, kill, order, get, away, well, mannered, middle, class, inmates, turned, prison, bitches, due, lack, street, skills, prison, experience, watching, may, become, comfortable, uncomfortable, viewing, thats, get, touch, darker, side]|\n",
            "|\"A wonderful little production. <br /><br />The filming technique is very unassuming- very old-time-BBC fashion and gives a comforting, and sometimes discomforting, sense of realism to the entire piece. <br /><br />The actors are extremely well chosen- Michael Sheen not only \"\"has got all the polari\"\" but he has all the voices down pat too! You can truly see the seamless editing guided by the references to Williams' diary entries, not only is it well worth the watching but it is a terrificly written and performed piece. A masterful production about one of the great master's of comedy and his life. <br /><br />The realism really comes home with the little things: the fantasy of the guard which, rather than use the traditional 'dream' techniques remains solid then disappears. It plays on our knowledge and our senses, particularly with the scenes concerning Orton and Halliwell and the sets (particularly of their flat with Halliwell's murals decorating every surface) are terribly well done.                                                                                                                                                                                                                                                                                                                                                                                                                                                                                                                                                                                                                                                                                                                                                                                         |1        |[a, wonderful, little, production, br, br, the, filming, technique, is, very, unassuming, very, old, time, bbc, fashion, and, gives, a, comforting, and, sometimes, discomforting, sense, of, realism, to, the, entire, piece, br, br, the, actors, are, extremely, well, chosen, michael, sheen, not, only, has, got, all, the, polari, but, he, has, all, the, voices, down, pat, too, you, can, truly, see, the, seamless, editing, guided, by, the, references, to, williams, diary, entries, not, only, is, it, well, worth, the, watching, but, it, is, a, terrificly, written, and, performed, piece, a, masterful, production, about, one, of, the, great, master, s, of, comedy, and, his, life, br, br, the, realism, really, comes, home, with, the, little, things, the, fantasy, of, the, guard, which, rather, than, use, the, traditional, dream, techniques, remains, solid, then, disappears, it, plays, on, our, knowledge, and, our, senses, particularly, with, the, scenes, concerning, orton, and, halliwell, and, the, sets, particularly, of, their, flat, with, halliwell, s, murals, decorating, every, surface, are, terribly, well, done]                                                                                                                                                                                                                                                                                                                                                                                                                                                                                                                                                                                                                                                                                                                                                                                                                                                                                                                            |[wonderful, little, production, filming, technique, unassuming, old, time, bbc, fashion, gives, comforting, sometimes, discomforting, sense, realism, entire, piece, actors, extremely, well, chosen, michael, sheen, got, polari, voices, pat, truly, see, seamless, editing, guided, references, williams, diary, entries, well, worth, watching, terrificly, written, performed, piece, masterful, production, one, great, master, comedy, life, realism, really, comes, home, little, things, fantasy, guard, rather, use, traditional, dream, techniques, remains, solid, disappears, plays, knowledge, senses, particularly, scenes, concerning, orton, halliwell, sets, particularly, flat, halliwell, murals, decorating, every, surface, terribly, well, done]                                                                                                                                                                                                                                                                                                                                                                                                                                                                                                                           |\n",
            "+----------------------------------------------------------------------------------------------------------------------------------------------------------------------------------------------------------------------------------------------------------------------------------------------------------------------------------------------------------------------------------------------------------------------------------------------------------------------------------------------------------------------------------------------------------------------------------------------------------------------------------------------------------------------------------------------------------------------------------------------------------------------------------------------------------------------------------------------------------------------------------------------------------------------------------------------------------------------------------------------------------------------------------------------------------------------------------------------------------------------------------------------------------------------------------------------------------------------------------------------------------------------------------------------------------------------------------------------------------------------------------------------------------------------------------------------------------------------------------------------------------------------------------------------------------------------------------------------------------------------------------------------------------------------------------------------------------------------------------------------------------------------------------------------------------------------------------+---------+-------------------------------------------------------------------------------------------------------------------------------------------------------------------------------------------------------------------------------------------------------------------------------------------------------------------------------------------------------------------------------------------------------------------------------------------------------------------------------------------------------------------------------------------------------------------------------------------------------------------------------------------------------------------------------------------------------------------------------------------------------------------------------------------------------------------------------------------------------------------------------------------------------------------------------------------------------------------------------------------------------------------------------------------------------------------------------------------------------------------------------------------------------------------------------------------------------------------------------------------------------------------------------------------------------------------------------------------------------------------------------------------------------------------------------------------------------------------------------------------------------------------------------------------------------------------------------------------------------------------------------------------------------------------------------------------------------------------------------------------------------------------------------------------------------------------------------------------------------------------------------------------------------------------------------------------------------------------------------------------------------------------------------------------------------------------------------------------------+--------------------------------------------------------------------------------------------------------------------------------------------------------------------------------------------------------------------------------------------------------------------------------------------------------------------------------------------------------------------------------------------------------------------------------------------------------------------------------------------------------------------------------------------------------------------------------------------------------------------------------------------------------------------------------------------------------------------------------------------------------------------------------------------------------------------------------------------------------------------------------------------------------------------------------------------------------------------------------------------------------------------------------------------------------------------------------------------------------------------------------------------------------------------------------------------------------------------------------------------------------------------------------------------------+\n",
            "only showing top 2 rows\n",
            "\n"
          ],
          "name": "stdout"
        }
      ]
    },
    {
      "cell_type": "markdown",
      "metadata": {
        "id": "Kc1VMnxBPOei"
      },
      "source": [
        "**Calculer la fréquence du mot ‘zombie’ et du mot ‘drama’**"
      ]
    },
    {
      "cell_type": "code",
      "metadata": {
        "id": "K2o00QUVPTmr",
        "colab": {
          "base_uri": "https://localhost:8080/"
        },
        "outputId": "c7046f5e-34fc-4bce-8473-571270f9d81e"
      },
      "source": [
        "#frequence par review \r\n",
        "zombie_frequence = lambda mots:(mots.count(\"zombie\")/len(mots))\r\n",
        "zombie_frequence = udf(zombie_frequence,'float')\r\n",
        "\r\n",
        "drama_frequence = lambda mots:(mots.count(\"drama\")/len(mots))\r\n",
        "drama_frequence = udf(drama_frequence,'float')\r\n",
        "\r\n",
        "data = df.withColumn('drama_frequence', zombie_frequence(df['mots_essentiels']))\r\n",
        "data = data.withColumn('zombie_frequence', drama_frequence(data['mots_essentiels']))\r\n",
        "data.show()"
      ],
      "execution_count": null,
      "outputs": [
        {
          "output_type": "stream",
          "text": [
            "+--------------------+---------+--------------------+--------------------+---------------+----------------+\n",
            "|              review|sentiment|                mots|     mots_essentiels|drama_frequence|zombie_frequence|\n",
            "+--------------------+---------+--------------------+--------------------+---------------+----------------+\n",
            "|\"One of the other...|        1|[one, of, the, ot...|[one, reviewers, ...|            0.0|             0.0|\n",
            "|\"A wonderful litt...|        1|[a, wonderful, li...|[wonderful, littl...|            0.0|             0.0|\n",
            "|\"I thought this w...|        1|[i, thought, this...|[thought, wonderf...|            0.0|             0.0|\n",
            "|\"Basically there'...|        0|[basically, there...|[basically, famil...|    0.031746034|      0.04761905|\n",
            "|\"Petter Mattei's ...|        1|[petter, mattei, ...|[petter, mattei, ...|            0.0|             0.0|\n",
            "|\"Probably my all-...|        1|[probably, my, al...|[probably, time, ...|            0.0|             0.0|\n",
            "|\"I sure would lik...|        1|[i, sure, would, ...|[sure, like, see,...|            0.0|             0.0|\n",
            "|\"This show was an...|        0|[this, show, was,...|[show, amazing, f...|            0.0|             0.0|\n",
            "|\"Encouraged by th...|        0|[encouraged, by, ...|[encouraged, posi...|            0.0|             0.0|\n",
            "|\"If you like orig...|        1|[if, you, like, o...|[like, original, ...|            0.0|             0.0|\n",
            "|\"Phil the Alien i...|        0|[phil, the, alien...|[phil, alien, one...|            0.0|             0.0|\n",
            "|\"I saw this movie...|        0|[i, saw, this, mo...|[saw, movie, came...|            0.0|             0.0|\n",
            "|\"So im not a big ...|        0|[so, im, not, a, ...|[big, fan, boll, ...|            0.0|             0.0|\n",
            "|\"The cast played ...|        0|[the, cast, playe...|[cast, played, sh...|            0.0|             0.0|\n",
            "|\"Kind of drawn in...|        0|[kind, of, drawn,...|[kind, drawn, ero...|            0.0|             0.0|\n",
            "|\"Some films just ...|        1|[some, films, jus...|[films, simply, r...|            0.0|             0.0|\n",
            "|\"This movie made ...|        0|[this, movie, mad...|[movie, made, one...|            0.0|             0.0|\n",
            "|\"I remember this ...|        1|[i, remember, thi...|[remember, film, ...|            0.0|             0.0|\n",
            "|\"An awful film! I...|        0|[an, awful, film,...|[awful, film, mus...|            0.0|             0.0|\n",
            "|\"After the succes...|        1|[after, the, succ...|[success, die, ha...|            0.0|             0.0|\n",
            "+--------------------+---------+--------------------+--------------------+---------------+----------------+\n",
            "only showing top 20 rows\n",
            "\n"
          ],
          "name": "stdout"
        }
      ]
    },
    {
      "cell_type": "code",
      "metadata": {
        "colab": {
          "base_uri": "https://localhost:8080/"
        },
        "id": "-xGCD6Kg4LQA",
        "outputId": "698891cf-a8af-49ab-883b-19ad305c40d2"
      },
      "source": [
        "data.describe().show()"
      ],
      "execution_count": null,
      "outputs": [
        {
          "output_type": "stream",
          "text": [
            "+-------+--------------------+------------------+--------------------+--------------------+\n",
            "|summary|              review|         sentiment|     drama_frequence|    zombie_frequence|\n",
            "+-------+--------------------+------------------+--------------------+--------------------+\n",
            "|  count|               44399|             44399|               44399|               44399|\n",
            "|   mean|                null|0.4976688664159103|1.723323406629968...| 5.51312336777129E-4|\n",
            "| stddev|                null|0.5000001965780517|0.002135039786047...|0.003031696323284277|\n",
            "|    min|\"!!! Spoiler aler...|                 0|                 0.0|                 0.0|\n",
            "|    max|\"ý thýnk uzak ýs ...|                 1|          0.11111111|         0.078431375|\n",
            "+-------+--------------------+------------------+--------------------+--------------------+\n",
            "\n"
          ],
          "name": "stdout"
        }
      ]
    },
    {
      "cell_type": "markdown",
      "metadata": {
        "id": "MQ-SGEZduOV-"
      },
      "source": [
        "# Vectorization du modéle"
      ]
    },
    {
      "cell_type": "markdown",
      "metadata": {
        "id": "KFVzfrl-Pmr4"
      },
      "source": [
        " Créer un modèle de classification en utilisant les algorithmes: Régression Logistique, Naïve Bayes, et SVM\r\n"
      ]
    },
    {
      "cell_type": "code",
      "metadata": {
        "id": "CocG_4zw8MDv"
      },
      "source": [
        "from pyspark.ml.feature import CountVectorizer\r\n",
        "cv = CountVectorizer(inputCol=\"mots_essentiels\", outputCol=\"features\")\r\n",
        "df = df.withColumn('label', df[\"sentiment\"])\r\n",
        "df = cv.fit(df).transform(df)"
      ],
      "execution_count": null,
      "outputs": []
    },
    {
      "cell_type": "code",
      "metadata": {
        "colab": {
          "base_uri": "https://localhost:8080/"
        },
        "id": "Po3nYDqEBFYV",
        "outputId": "7cbbf1f0-3153-4a02-fe72-9862b48690d7"
      },
      "source": [
        "df.show(2)"
      ],
      "execution_count": null,
      "outputs": [
        {
          "output_type": "stream",
          "text": [
            "+--------------------+---------+--------------------+--------------------+--------------------+-----+\n",
            "|              review|sentiment|                mots|     mots_essentiels|            features|label|\n",
            "+--------------------+---------+--------------------+--------------------+--------------------+-----+\n",
            "|\"One of the other...|        1|[one, of, the, ot...|[one, reviewers, ...|(92386,[2,10,13,1...|    1|\n",
            "|\"A wonderful litt...|        1|[a, wonderful, li...|[wonderful, littl...|(92386,[2,5,7,9,1...|    1|\n",
            "+--------------------+---------+--------------------+--------------------+--------------------+-----+\n",
            "only showing top 2 rows\n",
            "\n"
          ],
          "name": "stdout"
        }
      ]
    },
    {
      "cell_type": "code",
      "metadata": {
        "id": "gp5w4WPn9rp2"
      },
      "source": [
        "train, test = df.select(\"features\",\"label\").randomSplit([0.8,0.2],seed=100)"
      ],
      "execution_count": null,
      "outputs": []
    },
    {
      "cell_type": "code",
      "metadata": {
        "colab": {
          "base_uri": "https://localhost:8080/"
        },
        "id": "x1A-Ymik9jH4",
        "outputId": "fee34a3d-31ad-4a83-d9f9-5ea14011f975"
      },
      "source": [
        "train.show(3)"
      ],
      "execution_count": null,
      "outputs": [
        {
          "output_type": "stream",
          "text": [
            "+--------------------+-----+\n",
            "|            features|label|\n",
            "+--------------------+-----+\n",
            "|(92386,[0,1,2,3,4...|    0|\n",
            "|(92386,[0,1,2,3,4...|    1|\n",
            "|(92386,[0,1,2,3,4...|    1|\n",
            "+--------------------+-----+\n",
            "only showing top 3 rows\n",
            "\n"
          ],
          "name": "stdout"
        }
      ]
    },
    {
      "cell_type": "markdown",
      "metadata": {
        "id": "1jrH5QfLMAx7"
      },
      "source": [
        "# Création et évaluation des modéles"
      ]
    },
    {
      "cell_type": "code",
      "metadata": {
        "id": "gqjnPuy5IYRQ"
      },
      "source": [
        "from pyspark.ml.classification import NaiveBayes\r\n",
        "from pyspark.ml.classification import LogisticRegression\r\n",
        "from pyspark.ml.classification import LinearSVC\r\n",
        "from pyspark.ml.evaluation import MulticlassClassificationEvaluator\r\n",
        "\r\n",
        "nb = NaiveBayes()\r\n",
        "logireg = LogisticRegression()\r\n",
        "svm = LinearSVC()\r\n",
        "\r\n",
        "model = nb.fit(train)"
      ],
      "execution_count": null,
      "outputs": []
    },
    {
      "cell_type": "code",
      "metadata": {
        "colab": {
          "base_uri": "https://localhost:8080/"
        },
        "id": "4WfELDsMTjXV",
        "outputId": "5f2b0fbc-608b-4b7f-fc99-8ea5ecdd431c"
      },
      "source": [
        "prediction = model.transform(test)\r\n",
        "prediction.show()"
      ],
      "execution_count": null,
      "outputs": [
        {
          "output_type": "stream",
          "text": [
            "+--------------------+-----+--------------------+--------------------+----------+\n",
            "|            features|label|       rawPrediction|         probability|prediction|\n",
            "+--------------------+-----+--------------------+--------------------+----------+\n",
            "|(92386,[0,1,2,3,4...|    1|[-4070.0789747265...|[9.39594782544981...|       1.0|\n",
            "|(92386,[0,1,2,3,4...|    0|[-1975.7685716736...|[1.0,8.7810797295...|       0.0|\n",
            "|(92386,[0,1,2,3,4...|    0|[-4504.3297811451...|[0.01590360402531...|       1.0|\n",
            "|(92386,[0,1,2,3,4...|    1|[-7051.1671479083...|[1.31234974774770...|       1.0|\n",
            "|(92386,[0,1,2,3,4...|    1|[-5757.0983387841...|[9.81177965694858...|       1.0|\n",
            "|(92386,[0,1,2,3,4...|    0|[-4447.2182098612...|[0.80600393560909...|       0.0|\n",
            "|(92386,[0,1,2,3,4...|    1|[-3034.6398131027...|[1.58583157243881...|       1.0|\n",
            "|(92386,[0,1,2,3,4...|    0|[-2939.0112516597...|[1.0,4.6985324027...|       0.0|\n",
            "|(92386,[0,1,2,3,4...|    0|[-1976.5706590761...|[1.0,8.2685930080...|       0.0|\n",
            "|(92386,[0,1,2,3,4...|    0|[-2715.6300772439...|[0.99999999999999...|       0.0|\n",
            "|(92386,[0,1,2,3,4...|    1|[-2195.9986512190...|[1.75308806334540...|       1.0|\n",
            "|(92386,[0,1,2,3,4...|    1|[-2779.8134185808...|[2.92377385567835...|       1.0|\n",
            "|(92386,[0,1,2,3,4...|    0|[-2327.3782973000...|[0.96627730309989...|       0.0|\n",
            "|(92386,[0,1,2,3,4...|    1|[-2228.1055270399...|[6.27209863951335...|       1.0|\n",
            "|(92386,[0,1,2,3,4...|    1|[-2008.8902181110...|[1.30369275389309...|       1.0|\n",
            "|(92386,[0,1,2,3,4...|    0|[-1005.5446936725...|[0.99999971406268...|       0.0|\n",
            "|(92386,[0,1,2,3,4...|    0|[-946.21950019725...|[1.0,1.8447300596...|       0.0|\n",
            "|(92386,[0,1,2,3,4...|    0|[-3322.3591846412...|[1.0,4.4291118773...|       0.0|\n",
            "|(92386,[0,1,2,3,4...|    1|[-1249.1692631459...|[6.51345600057856...|       1.0|\n",
            "|(92386,[0,1,2,3,4...|    0|[-2451.8084291179...|[0.99999999999999...|       0.0|\n",
            "+--------------------+-----+--------------------+--------------------+----------+\n",
            "only showing top 20 rows\n",
            "\n"
          ],
          "name": "stdout"
        }
      ]
    },
    {
      "cell_type": "code",
      "metadata": {
        "colab": {
          "base_uri": "https://localhost:8080/"
        },
        "id": "SZ0xY45ufE2I",
        "outputId": "0a85a6bb-44dd-4497-8d43-a457f22cd8c4"
      },
      "source": [
        "evaluator = MulticlassClassificationEvaluator(labelCol=\"label\",predictionCol=\"prediction\")\r\n",
        "accuracy = evaluator.evaluate(prediction, {evaluator.metricName: \"accuracy\"})\r\n",
        "print('Précision du Naïve Bayes', accuracy)"
      ],
      "execution_count": null,
      "outputs": [
        {
          "output_type": "stream",
          "text": [
            "Précision du Naïve Bayes 0.8610452647025624\n"
          ],
          "name": "stdout"
        }
      ]
    },
    {
      "cell_type": "code",
      "metadata": {
        "id": "hKWeFvGhSL2V"
      },
      "source": [
        "model = logireg.fit(train)"
      ],
      "execution_count": null,
      "outputs": []
    },
    {
      "cell_type": "code",
      "metadata": {
        "colab": {
          "base_uri": "https://localhost:8080/"
        },
        "id": "vXxjzPlXZ36c",
        "outputId": "aa8132b8-8691-47d6-ed44-4c78788c2968"
      },
      "source": [
        "prediction = model.transform(test)\r\n",
        "prediction.show()"
      ],
      "execution_count": null,
      "outputs": [
        {
          "output_type": "stream",
          "text": [
            "+--------------------+-----+--------------------+--------------------+----------+\n",
            "|            features|label|       rawPrediction|         probability|prediction|\n",
            "+--------------------+-----+--------------------+--------------------+----------+\n",
            "|(92386,[0,1,2,3,4...|    1|[-202.57707371292...|[1.05170690759296...|       1.0|\n",
            "|(92386,[0,1,2,3,4...|    0|[132.496233642956...|           [1.0,0.0]|       0.0|\n",
            "|(92386,[0,1,2,3,4...|    0|[78.9157419533591...|           [1.0,0.0]|       0.0|\n",
            "|(92386,[0,1,2,3,4...|    1|[-294.00545583438...|[2.06563166122583...|       1.0|\n",
            "|(92386,[0,1,2,3,4...|    1|[-104.13604625464...|[5.94688779516416...|       1.0|\n",
            "|(92386,[0,1,2,3,4...|    0|[74.0511786904518...|           [1.0,0.0]|       0.0|\n",
            "|(92386,[0,1,2,3,4...|    1|[-51.274270576740...|[5.39345705329058...|       1.0|\n",
            "|(92386,[0,1,2,3,4...|    0|[112.409408870436...|           [1.0,0.0]|       0.0|\n",
            "|(92386,[0,1,2,3,4...|    0|[95.8432876521816...|           [1.0,0.0]|       0.0|\n",
            "|(92386,[0,1,2,3,4...|    0|[65.2999678189696...|           [1.0,0.0]|       0.0|\n",
            "|(92386,[0,1,2,3,4...|    1|[-170.82832676053...|[6.45952130736967...|       1.0|\n",
            "|(92386,[0,1,2,3,4...|    1|[-125.43511532166...|[3.34365591270416...|       1.0|\n",
            "|(92386,[0,1,2,3,4...|    0|[57.3030652417746...|           [1.0,0.0]|       0.0|\n",
            "|(92386,[0,1,2,3,4...|    1|[-139.64070060558...|[2.26367605997676...|       1.0|\n",
            "|(92386,[0,1,2,3,4...|    1|[-170.85619386173...|[6.28199818891458...|       1.0|\n",
            "|(92386,[0,1,2,3,4...|    0|[32.8251084598395...|[0.99999999999999...|       0.0|\n",
            "|(92386,[0,1,2,3,4...|    0|[108.494103086969...|           [1.0,0.0]|       0.0|\n",
            "|(92386,[0,1,2,3,4...|    0|[127.675272908582...|           [1.0,0.0]|       0.0|\n",
            "|(92386,[0,1,2,3,4...|    1|[-81.822665815977...|[2.91653868645294...|       1.0|\n",
            "|(92386,[0,1,2,3,4...|    0|[59.8904458371057...|           [1.0,0.0]|       0.0|\n",
            "+--------------------+-----+--------------------+--------------------+----------+\n",
            "only showing top 20 rows\n",
            "\n"
          ],
          "name": "stdout"
        }
      ]
    },
    {
      "cell_type": "code",
      "metadata": {
        "colab": {
          "base_uri": "https://localhost:8080/"
        },
        "id": "LbSTRy3XgBAi",
        "outputId": "192a9870-4506-409b-e66d-1e820f4010f6"
      },
      "source": [
        "evaluator = MulticlassClassificationEvaluator(labelCol=\"label\",predictionCol=\"prediction\")\r\n",
        "accuracy = evaluator.evaluate(prediction, {evaluator.metricName: \"accuracy\"})\r\n",
        "print('Précision de la Régression Logistique', accuracy)"
      ],
      "execution_count": null,
      "outputs": [
        {
          "output_type": "stream",
          "text": [
            "Précision de la Régression Logistique 0.8626255785077322\n"
          ],
          "name": "stdout"
        }
      ]
    },
    {
      "cell_type": "code",
      "metadata": {
        "id": "LGKSaMfwaPx_"
      },
      "source": [
        "model = svm.fit(train)"
      ],
      "execution_count": null,
      "outputs": []
    },
    {
      "cell_type": "code",
      "metadata": {
        "colab": {
          "base_uri": "https://localhost:8080/"
        },
        "id": "ZGGbyPfWaZMi",
        "outputId": "670f715d-5665-452c-af6c-25ed846bef3b"
      },
      "source": [
        "prediction = model.transform(test)\r\n",
        "prediction.show()"
      ],
      "execution_count": null,
      "outputs": [
        {
          "output_type": "stream",
          "text": [
            "+--------------------+-----+--------------------+----------+\n",
            "|            features|label|       rawPrediction|prediction|\n",
            "+--------------------+-----+--------------------+----------+\n",
            "|(92386,[0,1,2,3,4...|    1|[-14.685108896240...|       1.0|\n",
            "|(92386,[0,1,2,3,4...|    0|[6.77045580900764...|       0.0|\n",
            "|(92386,[0,1,2,3,4...|    0|[5.54534667853544...|       0.0|\n",
            "|(92386,[0,1,2,3,4...|    1|[-16.662540428839...|       1.0|\n",
            "|(92386,[0,1,2,3,4...|    1|[-3.0440791479498...|       1.0|\n",
            "|(92386,[0,1,2,3,4...|    0|[1.80209559186229...|       0.0|\n",
            "|(92386,[0,1,2,3,4...|    1|[-4.2201074787797...|       1.0|\n",
            "|(92386,[0,1,2,3,4...|    0|[10.6333484417863...|       0.0|\n",
            "|(92386,[0,1,2,3,4...|    0|[7.56539564436379...|       0.0|\n",
            "|(92386,[0,1,2,3,4...|    0|[5.91873214610274...|       0.0|\n",
            "|(92386,[0,1,2,3,4...|    1|[-10.710768741764...|       1.0|\n",
            "|(92386,[0,1,2,3,4...|    1|[-8.2845739894362...|       1.0|\n",
            "|(92386,[0,1,2,3,4...|    0|[1.08950042806162...|       0.0|\n",
            "|(92386,[0,1,2,3,4...|    1|[-9.0030855945175...|       1.0|\n",
            "|(92386,[0,1,2,3,4...|    1|[-10.174540900430...|       1.0|\n",
            "|(92386,[0,1,2,3,4...|    0|[2.68764329065587...|       0.0|\n",
            "|(92386,[0,1,2,3,4...|    0|[8.52978025211067...|       0.0|\n",
            "|(92386,[0,1,2,3,4...|    0|[8.97804102555671...|       0.0|\n",
            "|(92386,[0,1,2,3,4...|    1|[-6.4561568571902...|       1.0|\n",
            "|(92386,[0,1,2,3,4...|    0|[4.5241906251775,...|       0.0|\n",
            "+--------------------+-----+--------------------+----------+\n",
            "only showing top 20 rows\n",
            "\n"
          ],
          "name": "stdout"
        }
      ]
    },
    {
      "cell_type": "code",
      "metadata": {
        "colab": {
          "base_uri": "https://localhost:8080/"
        },
        "id": "a_dZCq5LgL6r",
        "outputId": "5c2a6fa1-5d4a-4e3a-d3b2-f97f5fd86088"
      },
      "source": [
        "evaluator = MulticlassClassificationEvaluator(labelCol=\"label\",predictionCol=\"prediction\")\r\n",
        "accuracy = evaluator.evaluate(prediction, {evaluator.metricName: \"accuracy\"})\r\n",
        "print('Précision du SVM', accuracy)"
      ],
      "execution_count": null,
      "outputs": [
        {
          "output_type": "stream",
          "text": [
            "Précision du SVM 0.8873462016028897\n"
          ],
          "name": "stdout"
        }
      ]
    },
    {
      "cell_type": "markdown",
      "metadata": {
        "id": "isXa3trgiUNe"
      },
      "source": [
        "L'ordre des modéles par taux d'accuracy est comme suit:\r\n",
        "\r\n",
        "\r\n",
        "![image.png](data:image/png;base64,iVBORw0KGgoAAAANSUhEUgAAAjkAAAEECAYAAADK5yWDAAAgAElEQVR4Aey913cbSZbgrX+qH/ucfvhmZndmeqZnZzS7OzvVZbpaZVSmq6UqmRIlykuUaCSKFL333nvvPUHRg14QSdFTlKr68X7nBhBAZCITyEwkQAC8DzjpIiMiI25E/HAj4t5zf/v1BOhHZUAyQDJAMkAyQDJAMhBuMnAu3D6IvocaKckAyQDJAMkAyQDJAMoAQQ5pskiTRzJAMkAyQDJAMhCWMkCQQ4IdloJN/+LoXxzJAMkAyQDJAEEOQQ5BDskAyQDJAMkAyUBYygBBDgl2WAo2/YOjf3AkAyQDJAMkAwQ5BDkEOSQDJAMkAyQDJANhKQMEOSTYYSnY9A+O/sGRDJAMkAyQDBDkEOQQ5JAMkAyQDJAMeJGB4+MDmF6wQkPXIFS29ITEr7FnBGzbOyH129zZhaPjQ/jVS31oBViCHJMKUmuBUzj6Z0EyQDJAMhA6MjA5uwAPk4vgq8gXcOHm85D6RSbkw+Tiekj+ppY2YOn1Fhy/O/IJwAlyCHJ8EiDqrEOns6a6oroiGdAnAzXt/SEFNXIIC2XIEeFse2/P8DhFkEOQY1h4qMPU12FSeVF5kQyEjgzIgSEUr8MFchB4Do4ODY1VBDkEOYYEhzrr0Omsqa6orkgG9MlAQn51SGtwOJCFE+Qg6Lx/f6x7vCLIIcjRLTTUYerrMKm8qLxIBkJHBvpGLWEBOAg64QY5y6+3dI9XBDkEObqFhjrs0Omwqa6orkgG9MkALjLmmpBQP4Yb5OBi5F9/0VefBDkEOQQ5QS4DnSMWqOoYDPnf0dFBUMtaKJYxAYy+Ac9beb1/fwQX7yQQ5ATxjqxDnWtzCHKCfIDz1ijpubmdXDCWJ0LOxxEJIf8LdsgpbuoJqTJOK28JamgMxrbkLU/W1bWwAZxwnK7CdTloR8dbPYrPCXIIcnQJjCg8dB4YwCLICUw5E+QEppyDud/oGBwjyAliLQ5CDho31CNDBDkEOboERo9wUVhzBg2CHHPK0Zs8EuQEppy91cNpPkdLxmavw7nyNANSiuthcOIVrL1+DajRROvJG2/eMAvKuVUtEPki1/R0/a3JGZpehvL2EYjJrYMfY/Pg6wfpTBOKR7yOy2+Amu4x0w0REuQQtBC0hJkMmA05mVPrMFrtZfqreh6sU22mTt+E9nTVKFiPj+AEfwc2GO2oUiibUbCujMLHbmXXBqMr89Cnpdx1TEvSdJX5UGYm5NxNzIf2gTHN/fHoq1l4llNpKuz4Y+Fxn2URXpa2OqHG21T6pZhcSKvsgP6pRVOAhyAnzAa40/xXQ2mb34kaKVOvkBNTDnHFDZCQU8gG3hs5VXAjsQoSiqvgBhs0s+FBfoPzOm/eBpbaQnjiCP9xRCE8qWixx4HxFNfCg/RyeJKWDZfSquBBIsZfCw9iHGDE406sgieJXmBJGLRDG3ImYM02YQebmCGwHq5DTYy9jLCTZ+UU4yjTWiuszXc66gLrpQcsNitUYlnGJIB7/eA9e/2xZ0KZeRpACHLMb59mQU5RfYdmuJH3CW39o6aBjtmQU9szDt9FZSoAvvd+4K9Pc6BtZMZn0CHIIcgx3LjkjS3Urvf2d+HN1hag+jcqrYT9GrsHmYo41L5FzK9nyOkBy94WWEamYNS2A9aOBGizHcHO0jx0z27BwcoQFM3vgG12CrqnbbCzMgR2yGmG0e11aERwqbWC7fUCNI5MQffYCuwc26Ct3z5Q583vwIHNCgMT67CzPQMJGROwtr0OAyNWWDs8grUh750bH6hDHnL2VqAby2hiBWxrE/BEgBl7mTpAyHH/wYANbCszrB5ODqwwzODSvX5c4WxwcGKDNoKcU+vDzICcipYen/OPjkDNmDYzE3IQcHhbNno0A3QIcghyfG5g4gAbCuc17X1svnvd9lrx2/vGLPCysJZ5DcbOIxS+ScyjZ8hJgCfVQ+wfkmXbDh1tti0YyED4cAy6OW1QMzAFA/NbcGKbcEBOAjyYsIG1JxuKrDYYLcXwVdC2sQWW+mwGPqiNyJvfgtlWfNbJtBF5QzawjWSzzi5haudsQs6IFWwHLhDEDl8JcrAeupn2y152LsiR1o8rXAOM7hHkiLIf6HNfISexoMa0/qW4vsNn0DELclADYxRs5O/5CjoEOQQ5pjWyQHcwZqS3vGGDifkl5297x7USH1XI2ImZkU4g4/AIOcUzYNucgaLiKngwssWgo83GB0qEnCUY2NyCgYYGeJI2BTYBcj7OmALbxgpYN+chJSKbAc3akGOtiUMbYR+8BchB7cREOevw8ub3zxbk8OmqiASoWNoCy5QVbI5pKYRBS61Uk4PAaIfNTrBsipocsX4mGFg6wx3yZ1jmnn80XRVc01VmAg7vX5KKan0CHTMgp3dyARBMvMmjnucYn9E1OgQ5BDkhN4jzBm3GMb+xH8Rf86Al5MvDI+Tg9NGeDUYnrLC2sw+2qQaQQs48tG3swNr0DFg2duBgex66HdMmH0dkQ+PaiR1aOtbh5HgH1jZs7DcwzaercP2OADkxnWDZ3gHbxhbsHB/B2oDngVjs+EJ+uoqXz/YOHGzOQB6uzTnAMtuCncMdN8i5VG8F2846zC5twcGeOuSwcHtbsLa5Ayc0XXWq7dUXTQ7a2FHrwzxpkD09e735Bi4/TjUMOmZAzvPCRlMBh/cJuBgZt4Tr/RHkEOSoNjS1Bhiq921b227fKgIOnitBzt7Bvtt7wVwGHiHHy7993qEoHwuhcc0G3WxqSyOsVE+BZagZEJBqVrbA4m2XlpC/0IYcjeUjfK9ymbvHkzlihTacLkRo2rRCpsY4SJMTPJqcrIomxT7l8HCfrQ3E9TW422rYMuMMh9vJozPKGMDcfJ4DEzPzzmdif9TcO3xqkNM8OAWf3nrpBjkX7qbAnZQyiMqqge+jstyeo+xffJgO99Iq2E4spbaAu670Ag7ZySHAUWwkYoMJl3OckkKI6bfYOwYEl6FXCxItDj6v6BiBmaU1+PDhHSubrrEZFgantUKlLPwFOUUWG8wyYHEfeJU6Jfu9KqiZXgHryjrMjrTBJY0DMr5LkKNSzjlDMLq0Dta1FeiutK93Ui9/VxwEOcEDOWqAMmKZYYCC2hr0bP7N3URYWFllmyEQbH6OzWK2cnCjRGFdu2KfdHCwB1/dfmEIdFCTM2XdgCnrOgxNLcDQ1DzMLG9ohosXxfiHxiVz/Lyqc9QZR2XnqGIYBJLx+TUWrqRlUDEM2tnRCzqkySHQUWwooTKga8knBxyutUFtDT/3dCxtHZKECxXQ8Rfk8A4rUEeCHPfBwpeyJ8gJDsj59m6iap/bPTwBf3mYzKDm5OSIaXWuRmcAAg7eX1heYe8i5KSVNqjG8yy7whDkqO3QupNYAPXdw2CxegaeH566Q/f3UZkMTO6klENkUik7l6/Z+flFEbuPRgGjc+tgeGZZEXKe5tQS5GgZ9CiM+Y09WMvUuvZaAioi1JS0DkLb8BRYFlZg1fYGRmes0DQwqRoe393Z0+cH5TTKhSAnMPJNFo8DU86n0Ya0pmlkTU5MZrkqnGxubzE4QajB6antnbcQGW+3bsy1P7hgGWGkd1R9/WBte7+pkMPh53ZCAUwsrCqChhqYIJi3DL1iOzpbh6dh8NWSG8BwyKnvmwRcuKy2/RwhiDQ5pJlRbUBaG244hXu7uwulbcNu4DIyY4VDFS/X6282mXlxEYjwHKeutJYNqpsHxqfY7izslPiW9PzaNkD7PFrjMRLul1/egZ7f+uYW5DX0Q2XHqK739KRhNKyR7w/UO0a/Se29rtEZVg+W+WW/1UOgyuaspGMEcjLKGz22/6m5RfjroxSmvUHQweknhB8sUw44Lb0jHuPoHZ30C+Rw2MHpLDlsdIzOusEL1zyi5gbBJb2qA26+LFEMh+tx8hv72Jqc28llimHQBYQ8XW/XNF1FUOSxsYRDZ4ULjkVgQYjR8l3iNBdOXWl5Bzuly1FpMDo1C1tvt+HD+2PJe/gc1cw41+6PLaRa8igP85qVzwBUdWo3KS+Pg65912p0j81CfuMATC3YpySoTH0vU3+XoRHI0WL8D/sJ1ObgtBT/BnwPIQN9WvF7akf8k8WBxB9HzJscLtS0Lxx0zDrK0/V2TZBDkOO1wag1JLPuL6ysQd/ENNR1D0PLwDjMWFdg72DPa742327DxOwi1HYNQevAOIxOz8P7kyO39xBqOOR069DG4PeJ63c+fJACi9L3Y+ekdF9+D/+ZoXVlroKWPw/kNUFOcAymBDnBUQ962p4RyFHbWcXT5YDDp6z4fTxyTY430EGDpv6AGzHOpj6pM01Pmhw54NxNKWcaGwQj9GuF1/IwStekySFg0TTAio3mNM/HZxYgLq9WVbhjc2tgamHJ7ZuGp+bgUUaF4ns/xuZCaXOvZGdO+8grBjl1PeOgBVTEMtl8+9YJSFOL2v5hb25vQnpxLeBRjAvPJ6Znoaa12+2+PFwgrwlygmNwJcgJjnrQ0/aMQA461VRLA7eQI9yIgINgg9vJ+R8oDjqe/iA1dA36HXLuvbQvFuaaFE9rcjiw4MJh3GaO7/RMzLMpLDziNQKP2jQVf5/W5BDkqDYetUZ1WvdTypS3GnJhFo9iHhFgxGdq57F59VDRMSzRxIzNugOTGLfaeU33GAMd3F6Omh38KS1A7h+dgDvPM+H/++gS+1159NKtPv54+QF79r++imAgtOjYLaGWdiDuE+QEx+BKkBMc9aCnzRmBHJzOVksDt5Dz3VUYhgMNalBE8PG0hVz+nqh9MfvcIjPOp2YDB/tpvjMKYQYXGot9N17jfYQdXJsjPhPPo7Jr3KbJOGSpHWm6isBItcGpNURf79d0DqkKsSjQ/FxMTyvkxBc1OzUwfKrq9ZZ98Z4Yn5bzjpFpt7hwvY74LmpuONyIx8Fx1w6IoXGLYpgRi/c5djEts88JcoJjcCXICY560NO+jEAOgoaa1eLOwXGmgcHnHHDwHk5PcdDBZwg5KcX1kj5IzDcuXDYbaJTiG5tdlkAH/rnk/bZ4vPqsgIVTs3/Dw+JzhBUMz++Jx+KWAUl6amAj3ifIIchRbShiozHrfHpR2f6BKMjyczFtXyBHjEfPubgAmQOTHHLq2nsUAUYEHrXzd+8OAloH8m8nyAmOwZUgJzjqQd4+PF0bhRy1xcc4JYVTUwgUCCrVbX3OvgFBB7U5+Axt53QMKm8UGJmyGxRUghKz743NrUigQ83QH8LL0MwyfPMoQxFeeJ+PzzGcEgx9dT8NBqeXJOmJMKN2TpBDkONsRJ4as1nPorIcDh0VrGJyQZcfxbR9gRzbtrtbBzFutfPOUe+aHHz3v/5yVzfoXH+SHNDyV/pGgpzgGFwJcoKjHpTaiNo9o5CDU1Zvd9+qtn01TQ/mA0Ho+Fj5jxHu5ryfVBgQLc7XtxMUgeNBeqUbyCCAZNd2u92X9/V4jeH6LItuYdEnlhrIeLpPkEOQo9rQ1Bq23vu9468gs6oNrscrqyCVBF28J6anFXLiChrdppgKG3thbGZB9/figmWuweFHJevHX0VEu0HOn69FwcPEXHiclAef/PjQ7flnVx7Baa/LIcgJjsGVICc46kHsb7ydG4Uc1KioaXO8penpOd9mbrbGRim+67HZitDR2G9xAxT5Ghyxf1c6/1ZB49M69EoxPU+Ag88IcghydA/6nhqZ+GzaugwRCdIFZkoC7e2eGKdWyBHjTCprY5DyrLCJNb4Xhepz2WJaeI4GA4uaB9n76OuKP8ddUhVNHfDu3SG793++u+0EmP+4eAsScsthzipdt4PvWldXITa9yBkWp7A46LT3D8MPd+OhoLrZmQ5Pz59HgpzgGFwJcoKjHvS0NV8gB8Fh2DJtWltHlw9KMOKve50j6tChNN0k9sl6z6u6pNvVvYGN+JwghyDHtEYmdg5o90avIKuFF+P1BjmfRrxwS/dafKFTE3M31bVyX4xX7RwtI3PtDfdGjqpicWrqf3zykxNaEFJW1ta8likuQv73r28635Ov15lfcgcktTz6ep8gJzgGV4Kc4KgHPe3JV8hBAME1NHrSVAqLhkf9BTNK8T7P9b7LCe3fqPXpeu6jqwcRWvSeE+QQ5PjcwOSNDrdX6xFib2HF+L1Bzuc34+Gzm/Fu6XNQwSNPD3d5iXHLz0UjgrhtnD9XW2R8/WkKnDg0Ozyst6OoARJB52lKgTO95KI657m3+Iw8J8gJjsGVICc46kFPGzIDchAiMsubDLfx+s6BgAIOWmufWLB7C/cGHAWN/V4XG/P+WH787nGmc1u5t3Q8PSfIIcgx3LjUOgP0diwXWF+uxXS8QQ6mg6DD07v4MB3Sqzqd2hgOO1ccWxQXV921LmgwEC0j87D82D85x8rq64gYRQ3M0MSU7rKcXbQqxoXAw3ddoYVUTwsRxfIxck6QExyDK0FOcNSDnjZkFuQg6DxOLdZlAR0XIKcU1wUUcB6kFMPkojbA4eCBxv7QRg7vk70dP731EnCRMTrq5HH4ciTIIcjRPTB76gQQGrwJsd7nYnp6IedOSrkbrHBoeV7YBNm1XTC3sg5rbzZh2roK/ZZ5UFpozN/pHplUhJKo5HzD5ahmY0e0nyP6sBHLw4xzgpzgGFwJcoKjHvS0KTMhh08LIbigh3F0zKmUF7R0nFfdyowG8nfMOkYm5EN0ZrkbOD1OK4XWgQmfoKOqcxQSipsBnXUqjQGXY3IhubzNaRHZF7AR3yXIIchRbEhKjUvLvYL6LkUBVhJqrffEdLVAzp9kU1YxefWqoMPhRcuR28aJTiuEf/78mgR2cApLzKee897hcUlcN2PToLl7QBLftegMybWe+L2FJcgJjsGVICc46sFbexGf+wNyRGBBWzl3EvKZ7Rzcdi4+88c5Qo7FugHoZXzo1SL76dXciIChdo4uINDXFVo5xiNeq4X19T5BDkGOqYPn8/y6U4cchCdxygqvOegkOhbD3UgohuTydkX4QV9XuB7n7d4uoCsHBCAOOGIHh4uM+TqaV3OunVdiGC3n798fwT988iOLC+NUeqetf1TxvlJYvfcIcoJjcCXICY560NN+/A05/gAZT3Ei5PgKFcH2PkEOQY6pg+fjDHdDUFo1NmrhxE5HiyaHx4ONmZ/jEaeuxGs8l2twxAXGmC4uorauKXsWFyFHzTiXmHdP5zwuNchJLqr127ocgpzgGFwJcoKjHjy1U/kzgpz1oIcighyCHFMhJ6nEbotGDhNq199HZUJVxyA09Y3CjzHKc7Vix6IGOXj/7e4ODL+ag79EZTKY+SQige20UtpWzvPjDXLEtOXnHExQm/P6jc2ncvzHz6541ORgZ/pmy92ruTxPRq4JcoJjcCXICY560NOGCHIIcnzq+PUIG4U9/Q7izfYWqEEIhwr5MaOyzSkjY9PzbpoWDC/WrVL8kS+LJWHkU2afRbwAXKejBDuo3WnsG4fRmUU2JaU0LSWmz89be4fgv3+455yuEh1x8jBaj7jAmE974REtJG/YpNoj7Ey1xqc3HEHO6bcdrDOCnOCoBz3thyCHIMdvHbMeQaSw/u086rqH4frzfEVAkUON/Bo1P2L9oPsHeRjxuRLkTMwuSuJQs7KMsIOg86fIJLal8UWRVOt0J7kEphaW4OT9O0l8Yvp4LgIJPy+td8GaPLy3a7RwzOMRj+LuKn/ayiHI8W/78Fb//DlBTnDUA68PLUeCHIIcj4OFFiGiMMHd8OPytNs/kMMLXn9xNwXmV1adcrKJljvvJktAR5QBOeRg+uLzwgZ1J3CxefWAflXWtnbBtnPAfndl63SKWwbY/bf7h3D87lgSN0/n/De33KDk65sximH5O2rHre0t+OOl+27xIewcHu6zOHtGJv22HgfzRZATHG0sVCHn9dYm9I1Ps2nngoZuKG3pg7bBCUm7VpP/UL/vb8j54lY8RL7Ih8SiBojKKIdLUenw9Z1Ev+2yooXHJ3Au1IUyXPLfOToFQ1PzhgZWs8ogubRZAiNKEKPl3sP0csl33EsplcQr5lcOOeWt/c530fmmWnqRSaVOsOGAg0fcwii+s2R7Kwm3c3AIHz5INTsphVWKUHLvRZYzL2KePZ0/yyxWiSubxYVGANNLG3TH6ylN/mxndwfGZxegqmMIHmXWwPOCJrDMW+HAAVc8HB39C0ErG69hcHIGUspa4XFWDZS3DsCazbc1Xv6uMzSYiRbDf/bidPebR+mQU9MBG5v+WU/m7+/0Fr+/IOfuy0IoaRlw+s2Trx3MqemEi36AHYIcghy/DDbeGpLSc4ScB5nV8KK4GazrGwHPV+uAFA5EUDByvrXz1vkN2TUdEvAQv18OOTi9xJ970uJgnkS4kZ8vrG8xWw3y+3h9cHTkTAPTmpqdVwQT1L70joxLwvK8KR3VjABiPHyqCiEnp7JFc5xK6Yj3fv3lHdR3j8CtRM+OUxE0W/rHTEtXzIOZ5683N2Foahaa+8YAp007hidhenEZ3r9X1sKZmbYvcc1YVyClrBnQIrdae/nLk0zAtrD6Wro+y5d0zXi3c8QCuGFALd9q94ubeoNenvSWjz8gB+tcDjVK10XN/XAtNttUrQ5BDkFO0DRSDjkIOvgraOxl2531NlIj4cc9aEzUOjhv92eXVpxlO2iZlXSgYh7lkCM+u59aJnlPniZqbZQgxts9MQ1+jtNTCCO4w0q+cPhJcr7bwmH+Hh43tzdBDjhoEBANCqLjz7vxmc6yEN/z9bxrdAr+8iTLYxnJy+xyTA70jr/yS36Mfs+brS1AoMW8yfPLrz+5mQgxuTUwZJkNqrxv77yFF4X1qvnm+Zcfs6vb4ZcPpw9uubXSPyDyfHq7fpRRAXsqlnyNysNpvmc25OB0nxLQqN0rbx+G7x8kmwY6BDkEOUHTYcohh8NOU/+E3/MoBw1vHZuW5xtv3jjz3dg7KhkExE5MnrYIR5XtA873vryX6jzH9G8nl7kBzvrWHkwv22BgygroXwV/cuDZk2lxxLxwbQvea+zsl2h3/tdXEXD7WQbg1FZLzyD0DI9BVUsXg5v//CZSErakrtX57WL8Zp7n+Dg44ftm5sdoXEWNPZJ61SJbOB26oOCjzGgejL6H06nfeNDcePuW6/EFsHQKWlv+vekV5niVvplQBIdHB0EhT/zbjB7NhJz08iZdgMPBp6pjmCBnUX0BNNnJCVE7OWqQw2FnZMa4BV5vDf5xprkG/y5FZ8P7E9eUkPyfrpgfOeTUdg07O0tcX8IHisHpJRidXYGk0laISCyWwAveT61oV5wquBZfCHW9E5Lwxyfa/kHLtTOo6fH2++THh878i99p5jlOi/By8eUo3wlnZh69xYUakHteNHXevg0Xw3pLx1/Ph6fmTKmDiw/SQMmprL/yzeOtaHP9gfBWzlqex+TUnFpd8G8y42gm5NT3jhuCHISd7Ko2U0CHNDmkyQmahukNchB2EstaYGF13fQ8f3EvxZQOm3eG8umQH2RTKmJnJIcctImDz9FTNx5xGuN+eqUEUkTtTEq5+xZ1ng/xmFvfI4kDQWf/6Ag2dw9g99AFZGLecKrJG9QoPbfM2r2bi3GZdW5E8yGWg/wc4zMrb1rjQcC59syYiQJ5/ht6RgKe/+X1DVPby0+xuQHVhMyvmO90F+sF11BplYFgDWcW5DxOLTUMOAg55W1DBDkq2hzS5ISpJodrdPBY1NIP4sJeXzuMy9HqayHkg4q3a/k/OnHKib8r5lcOORimuKETnqSVODvMrrFZCaBwyHmSXaNrsInOrVOMB+OT77iSr8vhMPNtZBybokItj5qmB++L32jWuafdZrxsjRwn5qR2iczKr1o8vmpw5N+IWhW1tPxx39taMXn+tFwHUquGa5u05ElvmK/up8K7d4cBqQt5ezWrns2CnPz6Lp8gB0Hny1vxPoMOaXJIk+OxQaLWBDUsmbVdbDGwCBrBcN4yOGnKrpNYH23jiJ0hQgvvcHb3duFLBS0Rf45HJchB2xE8DHZmHGrEY+eYdDGzmAdP5+ub0i3lPE75jitMPzq1ELh7Bg45XYNSx5qfX33s1PbgeW5FA+zu7Tjzz7/DjCNagvb0bUaf3U0u9Ut+lb7ZbE0UfvMPT7PgRJgeVUrXrHvtQ5N+qQP8DnFnoVn5lcez8vq1sfynt8DS3AB0pyd4fD9Q2hzb9jb0Tcwxx7vyb/Tl2izIKW8b9BlyrsVmEeQoaHNIk2OSJqe8fSgowUYOVw8zq2HQR/s6BfVdHjsuPYMnn27CjkZp7UhUVpVkQFXauo4exzuHLSzc4NScIuSg13E9+cKw3z7KgKPjQzZFxeGGH7f2lP+B8p1TuLhYaZcUam2uRSVBU5fLvo8vnazau6MqLjI8l0EhdE8Ow0Sl54EJ4xiXWZlWy4cv921bW7rrzPP3ub4rUNNu3rbqi/lNbR0A29yw49cJVRGu/Irh+LnYdnwpZ0/vVrT1G6gDuxzZNEBOoIAZISe/cYD9KjtGYXTGCtu7vv+5MAtyqjtHfIacR6mlBDkEOf4x6iUHiVC4Ti5vg9lll6VhTx2d/Bn6qMIFkLyz9fX45zvJ8LVKfKKmB/OhNHh/EvGC5UV08Jle2eGEHevGtqG8ogoZ09w9OHLGxSEHj/JyUbruHH0F4k8pjD/uJZdKXVZ4ryM+MGmDnNRy82z3qH0/bqf1nm87CEgBwfs3oMbwF5mRR7V8GL2PRv605v/jyk6wzbnApqp/GGyTLZDqBXSOjrXJodFveJxhYJMBfsvkgCZNDpZPIKasRMjhsIPHhr5JeLW4aniNk3mQM+Qz5Hxz9yVBDkGO+ZBT2zMaEhocNfAqbumH11tbmgZssaNEo2uaO3AvHbVaPN89zlDMl7hG4LObdn9USnFwIGkfmdGd189uvYT37+0LjHHBMY8L3T28OzmGX3/xLksINw8yayQ/vCeWo7/O/xqdrf2b2dTCMNj6O2FizjsgYFnjuix/5Z3H68kOjhhr+QgAACAASURBVKS+ZYBgBwbvUyXoioCn5Y+j3BSCJM/e2oT8m1TCj7zy7/oi/Ub/amACYU3jdBWWSSB2i6lBjgg87cPTsLj2Whf8ljX3wk9PM33+pZc1+wQ5ZW2DPucBv+Pq82x4WlYHcRUNPv+y6zthUgE6tNxDUyhm5CGmvB4yGtt1tXNy6yBMb2nZ4aQGF8F2v6FvHPT8K0SnmLo6bZVOWi2O9ErPtmPSyltY+p/djFfNBweT7FrtGgGen88iX8IHh9Xco3fHTsg5PFbeTr60/hrwJw6WWiBH6T0xDiPnWI/8OzQd02ugiq2dwAFKG+RgvAVNA1DSOuyXX2aNfns4rm/V9h03X5b6Je+8TG4mluirB6GNME1Ov/cFvw8zqvz6Da4y9Tx1xsOhRm2ptRA+1gE5L4pb/PoNWB/FLagpsU9XeTsWNQ9B3+Q8rL/x/uevbXDSJzjhtm6C5XgrtwzOX30I//rdLZ9+/xX5FNKajUNO4+gUfBuf5lMe8Bv+8MNtuJ5TKOmXvfWpBDkC5JS0DoS0FkcOWo+za6FvYkaTQHjzWcM7PT1H3DHS1DcGI6+0+eTCqaxHaWXwML1CcTDhkFPfZ0zrhL55sEGg5obHpWQzR4SZyYVl9s7k/BJk1OACdKkmJ6O6E8ZnrSzMqu0NROXUsTBmanjQ1YGecneF1QYHPHxKRafmgcPbwCJ/HpvfaPAbcDDW9h1/eZLtt/zj91yOzdP/DUyDg+tyvGuisB4iEkv89g15DTrX4yDY8Ck2HZATV9Dot2+Qy5XW66quMRibXYK3e7se+8OJ+aWwgpybWaXw+4sRzs0RfAOF3iNCTuv4jGFNzsjcClzLzPc5H3//6U9wK7fYYx3KoYcgR4CchNKWsIIcDj1J5W0wtWgfrOUCgNdKO5z4wGf02NQn3YWklK7SvdyqFhiYeMV2mmDauE1cbrl4ZGZZ/2ATkQB/icqE43eHsHfomq46eS911ikCDgeaJ7n1bnDDn4lHLGfx2izQWbO9MfS9WuGA17Flfgm2d3f98qtsHzT4DQlgX5/jWt/C8ys/4lSMv/KP8fq09Z3BjnfQSSxu8us34DZvebmpXaP2ybloXQfkDL+a9+s3YF3Mr254BSnU9vRb5mFj07sGh/dFBDnKBk+/ikmCvleLhiEHp7Ru5BTB33/yo0+gQ5AjAAsXWj1HDgXheMyo6QQ0AqZUHtHZ1Zo7PrUOUX7/rcJOB1wYinZzxDzIFyKvrG8ALv7DMGiPRA44qIFZ3dyFbx9nGMozOlLc3j90anIwPlyjg1vVpxZXJJAiAguePy9qhpz6HqjrHQOcDsxr6IX44maP73Atj/jNes/ReJ68fLVda9OA8Li2d11OVfXm0Vv4+u5hY9/g0IQ4B1thCojnmx/R6KS3fPjyXG65m6er7WhfCM6mfjx8g793id1O0jrlZpcd1+4wvktMAB+V79jb3/NrPWAdelqT0zEyDdb114DOa/XWN0GOMuR8HZsMfdM+Qk42QY5ugdQrwN7ChyPcxOTXw4DF82JGXBCsraPWNo+PcSG8oLfl/YM9WN54zTxL8w5WrAcMh+m3DIzDusPfFVo7RpshGE9sXr0ESPg0U0Fjn6E8907MKMaHC5DnV9ZVgcUTrOAWfjkQ8WsEJ/F7jZ5/fjvJwPdqh5wLd5NNyafa93WNWPTnXwfgoKzceKFvrl4tr2r3i5v8v66ofci/rioMO+TUqMm5+izPr3LE60YOOY39Fpi2rjETETyMkSNBjjLkfHQnxufpqh+SsnzS4uAUG2lySJMjmW5r6BvTtJ1T7nbBbOCRxyd2PvKpMtzKfi0uBz5zbCP/8n4qrG/vuYEJanOuxOl3DbCw9sYtLgQnXIyM+cI1OBxQ+HHHyzw+vofTYKmVHZJ3cY2O+K2+nBubKtEOObgOypf8eXsXHa/K5cDjtcbpHTGO5wV2lyDe8mL0uS5/VSz/rik2rVNu+IfAaP60vDc5Z9VXD1xboxFy0OaWlnz4GgYhp6rTsc5m1/M6Gz1pEeQoQ86//3gfMpqMLzxuGp2CT+8/I8jRI4z+CBsumpz8xl7QM8D6pobXrt3hA5JYd3LI4WHEY12P1MEm1+a0Dk/Dd48zNXfa+Q19ioAjNwQorsFZ39zU1WnzhccYh/idvp5XdRhZ06IdckTHqL7mVen9Dx+O4dNbidrqig2o3qdFRBnB89ou+8JypfTNuPf+/THo0ahJbf14X49zJS4wWhDUeMnLzqzrNZvNVLlXqzeEHLVnvtwnyFGGnP/552sQkVMMEwtrhtblPKtqgH/9LpIgxxfhNOPdUIechJIWGJ+z7/TRUx6460hvJ4frZbgZelwYi9MR2dXtoGWXlpg3LZCTXtkG4/MrbLEhbqfeOXCtqZlbfcMWJ3vKP+66qekeUwQcpsURtpFPW1ed2hic2hLzquX8ldW1rgd3ZGl5R0sYXOPk6Rt9efZJRALs7pv3b1jte0R7SJ7yK4UD11oQb+tZVl/7f4BNr2j1Wz3I16uplaOv93vHXvnlG7BsfM3bab9PkKMMOThV9L+vP4YXVU26Iad2aAK+j0/zGXBousrHqSpsXKEMOe3DU4Y7GCM2ctB4oFKH9P7kCJJLmz12ouJ7niAHp9F6xpS/S754GOfkE0ta2BQW/tv+MTYPnhc2Mguo61vS6S6+owr9VeFOK9TW4E4o/GXVdjPIwQXFYj71nPNdVrjlnMerVyOklB5abPYEB0afBWqKYXBSvxFHrd+ElnyVyszsextvjO5086zxxHVp2HbMzq9afInFvmzpd/+WS9HZhq0Mq+XxNO4T5KhDDu6M+tPjF1AzNKEZdNrGZ+ByWi780xc/E+SchkDL0wxFyClvH4SDw32fO8eMSn3/UL1tEfc0GIjlrgY5eF8MJz9HQOHTVlqPG9u78F62ZRzjRRDh62/4EXdOydPUel3ZOewWH+7K0vq+WjjcLXI9vsBU0Ln2LB9+MbALRS2P3u4bW1vkPqjK4QdB3VvaZj2vah8wtQ7wW1ATalb+tMSDU2+3THL4+snNRHi1YJ7WUkv+/RWGIEcdclCTgtNWX8UmQXZrt1fQKezoh5/S80yx04NpkybnFDU5aCnZjJ8eyEqr6nCzyOtrw9dsdj8iAf76NBtQm4MwgtNWStaVXy3ad0jJByQxn0qQo+b+AXdfdY9OsTS1go08nJg2P1eCHNwizp/rPY7OLPoFcjAfC6trgL7B5GVq5BqtQM8Z9Hemt0x4eEzPSF49vZNR2Wa4rni+9B7N1IRwn2p68+BreNzqfS+l1Kf6QMAZm1kIePn7+u1q7xPkeIYcDhr/58ZjuJ1XCjmtPdBpmYPh2WUYnFuGnqkFKOocgNu5pfD5o3j4xwvXTNHgEOSYADgo9HogQwyLgKPWaLTe1+pS4mluHQxptCCsNW0xHHoJ9zSgqD1DQ3tKi1eza9rd4hPTU4KcYZn/HtyZgx6aedqRSaWKWhx09yD+5ICD13wXlZiHUIIczLdl3uoz6CDgBFL7IZZ3S/+Ysy55nRo9Pkwv97ntiXnTc27Ggv2cmo5Tyz//Vr1aXF5XuC5v5bV/d4PxPAbqSJDjHXI4cOAU1PkrD+CL6JdwOSUHfsrIh4txKfCf1x/B77/23coyT0c80hZyH2FHBBc954GCHF+0C3o6CbRZcyk6x9BAlFUtdZ629XYb0AYL7xjxKOZFDjnytRVL6xuSd3k88YWN0GdZkMDOD09dTixx15Uccjb3DgGnucT08VwJcoJxukrMNw4ud5KN/QuPfFkMWK5ifIE+N2wckG9pjkgABBwlDWIgv8UX2zl13cOnWgdiOSE4azUKipsLWgeMazrFdIPtnCBHO+SI8BGoc4KcMIWc3IaegOx+kXc41rV1Qy4f5OsL5CpxMR055BQ0dEs6/kcZyn6sOOxEZdVA2/A01PaMO2EIvUVvvt12WjbGRcqowVHzNC4uPEZfVLguJxgXHovlxs9x2zRq0Xh5eDriNGB156CkfHk8p3EcmJxhhiA95Vnt2WlMUamVEU7BxeXVaqoD/B7UAK342R6OWl693X+zvc0ABh3m3kwshm8fZ8JPsXmQUNQAaMZgfmU1aOTH27cYeU6QQ5AT1gKuR3sjhvWXJie+uAnmV9dPtcy97ZRSGoRwaknsYLJrOiQDgPhMDjmDllnnu7oNyDn+5fOt7ZgO30klpunpHC0b88XHaMnYU1ilZ7PLa873zdxCrpSWeA/LLbOqDe4klwDuSrv4MJ390Mo0TkcgUIjhg+UcNTEFDV3wxd0UiYwoyRXee5xRAeMBXGSsp5zQkWp99wjEF9QzUwrfPspgdXDteT6DoLquYbBtafejpCdtf4SdWVpj/qHaR6aDUnb88c0EOQQ5YS3sIrjoOfcH5PRPugZ7fzRmrXHivLvagKN2HzULYvw4AIthxWdyyBF3iuEaH/E9+flnN+MBf/L7IuSIaWk955CDR7RkrPU9DPeyrNUJOXreO+th0Vhg38Q0AzXcgYXWrH+Ky4VbL0vYeiy05YRuQs56OQXy+wly+kPeI7lZXsgDNR3lLR2argqD6aqabmPeu/3V+SWVNLlBhBwqlK5xwOJ5kqvy+X08yiFHXHSsZRH05zfj4cLN5/AnAXZE56DoO2t6wcrCrGkYJFFdn1ze7gQVdNUg5tfTubi2B+PAuMTwgxOvJNfiMzo/kZQNTj/mNw7Amk2fxWkqR2k5+lIeBDnmQE56VSc8zamDn+LymWbvT5FJ8KfIl/D1gzRAQ6WPMqsBbWvlN5qTnhiPPyHnXy/8DNefJENZQztMzy/C5ra9reIRr4trW+DS/Re0u8qXRmj2u3q0N2JYszQ5Wzv+8wJttKzkEKIENEr3UJuD01a4yFX+XMyLPH7+HnfmKX9X7frTiBcMdL6MTIAn6SWQVFgLz3MqoXtYu8NDOeBwjQ66akBLxmK+xXPcMh5X2OQEI/6eHHSsq8pe4MW46Nw+SNf1TjDIWXltnv8vKlt9AESQ4xt05NT1QmSydk341ecF7A+WCClazzPruiG+sgVuZ5XBvbxyuFdYCU/LGuB6VrGpdmq4puVpagG8fqPNwrhldg7uPM80BXZIkxPCmpxg7YCX1pR3N6nBhpb74rfKIUfL+57C4I4jMX4957iGhgOK0hH/baGhP4SaibklqOsZg5QKl9ZH6R2+3R+NI77epAFba33U904yyFneoDLTWmZmhyPIMQ45MXn18M2jDLc/eJ76LnyG1trvp1dq1urkNPTCw6IauJqRDx9HRsM/f30D/vmrG/BPX/4M//p9JFx4ksDOOZz4evzPbyKha9DYbEPHwIjPoEOQQ5BjeID31EEanbJSa9BiWmZDTs+Yb1NC4pQThxbRYSe/p3Tk7hz4M4yLfytNVenTIjT02SFnaUPbv0VeznTUV86eyosgxxjk3Eur1A038r7yckyuV9BJr+uCiJwS+NPdOPi7P172GSC8AdB3t5/57HrkzdamT/kkyCHIcQ6qnjovvc/ebG/B1Wf5Pjdc3pDF9M2EnJQy4/6mxDyJoDO5sMzKFLU86IuKAww/4pZz3JGF76Pnd+6FXAScpp4hKGno9EvdiPkOp/OmfgvT5FjXabHxadUrQY5+yEENDu/nfD3eT1PX6GTV98DP2cXwnz/e9wkavIENf/4fX980rf9aWV83nGeCHIIc0wRR3rHizhazQEeM2yzIwa3uYry+niO4zK9It++L8MMhR4QZTBO3kItbx++9LIDEghpT8+brt4XC+80DUwxyFtcIck6rvghy9EGOmYDDASk6t05Ro/OgqBo+vxtnGBY4vGg9dhucolKT3dbeIUN5J8ghyPHrYGoW6IiCbwbkBMr6qhbI4d+G9l/SShugvFlq3JA/p6PnaZWWQTvkLKyermXms1xPBDn6IOf7qCzTtDgcctDeFS5gFhcgJ9d0wPX0fEOQoBVqxHDJBZV+GVeephTo/gaCHIIcvwij2NHjlmx0konrdNBJJ2+Meo5ifEYhB633plW0wui0foN9Yvp6ztEyMnoTF3/iNnHcoo7b1V8W1sBPT9JhdYMGaD3lK4ZtHXrFNDlzMm2aGIbOPYOir+VDkKMdcmLzGwz1hVr6zXupFRLIeVJWB3/4PlI3IIjgovX8wvUncHi0rziuTM3OA2pkPMlZ58AI1LX3KIbBbeZa88HDEeQQ5CgKkych9PXZjzH6fVyJaRqBnLy6Tjg8Ogj4t4r5VjovaeyEmMzTcxiplKdQvYeuOtBOzuyydMowVL8nFPNNkKMdcq4YXLN4J6UcEktbIbOmm9nLUYKeL++nSiDnVl4Z/MNnP+kGBA4Keo7pxcpT7RExqc70I+PSFfviL288dYa59yJLMcyPDxOdYbTkiyCHIEdRkPzZwaLRP6WG6ememB+9kBOV6R/VqZgnOvevhkBL+XaM2CEHB1ot4SmM+XVGkKMNcnIb+uDTW4m6+0EEHJyGwrU8T7Jr2TkaB1TqO58XNrHnmNb1rEJdYKAFHtTCoLZG3rbWNjZY+i09g9DRP8zO5TZzRiyv2P2J6VnIr2qCf/3iZ7d4MN6CqiZd30KQQ5CjKEhyITX7Wi+oiOnreRcXPpNpf/MHM7E+guW8c3SGaXKmrQQ5p1UnBDnaIAcBRAlM8N5X99PgWUEjvCxthZ9fFDnDiYCD4RBuEHh+jM1zhhHjRKOC+Bzt4tzILtIFBmoA4+3+//j0J9XxBO3lfH/nOfxwLx7+7csbML+0JAnLIefnpynw+bUo+OFuvOQ5l+nJmVld30KQQ5CjKEhcoPx51AorD9MrJHnU+h4BztmAGy6jXWN2yHm1GN5er/n3BuORIEcb5KAWRgQS8Ty7rpdZMUbQQUhBuJEDDjpyTa3oYCAkviueX4svZO9jHDdySwJiF+e//nJX0leLMjo4boFvbsUytw49w+OK4XC9DsIN/hB6xPf5+YbtNUEOL4xAHEVXDXrOzXDrEIjv83ca04vL8CzPvcF/+ygdonOqYWJuUVHQh6ZmmfdssVHzc3QQ2tQ3Crv7u4rv+vubKP7Tgavu8VmmybEsqLvToLrxb90Q5GiDHFwYzPsr8YhaHISSiMQS9hynpfAaf3y7Oe7IQt9W6AIGd1KJ74vnf43Ocb57O7+CWTX2ponx9fk3t+L83ue+PzkiyAlkR6YHbMSwBDnSzhY9iaMbgxnrCqAhQa11iFNRuMYHtTuDlhl4vUnOGbWWXbiF65mYY5AzOU+Qc1p1S5CjDXIeZlSrwkmUY60NOudEaEG44YDzw9MctuDYG+Dge/g+B6Rn5U3w2b1nuuDACPD86epj1b4bFyTr+VU2KxtD3d17q+s7aLqKpqtUhfK0OkpKVwqAVB7ayqPXATkT83aL01Ru2srNzHIiyNEGORxaRM2LeI7PEVA46OAzdNuQXdfjVYPD44lILHZCDi4+vpZVaKpPKiUI+rcvIxTHk1fzCwxMzn9zC7T+fv/na4pxLSwtE+SY2Wi9xSVqZ/SckyYn8B2wt7qk56FdJ/2T80yTMz4nXdBI9Rq4eiXI0QY5KRUdqpocDiki6CDsIKho0eDw9x9n1jghB4HpZXUb3MgqhH/47IouSFCCGU/3tt66a+Lfvz8CXJScXVavCC7yNhqXUay68Li5e0BX/kmTQ5ocTUInF0K6DtzAQWWtrawHLAsMcsZmCXJOS2YIcrRBDkLHd1GZmkEHw6NtHE9rcDjc8GN6dZcEcjCO+MoWuF9U4VeNDm7/VpI/XK/z2ZVHis/E8Ljm5t+/ioCEnDLFsDdj0whyxALz97ke7Y0YljQ52gYuf9cfxR8+9TA4ZYec0Rm781Oq28DXLUGOdsjBHVMcSDwdv3+SBbgWx1MY+bPLsXlugIOQgz/U6NwuLIc/P3juBjt//8mP8G8+Wka+8uilIpxYZucYnKgZC+TtNTbdvt19W0EjhPf+8MXPBDm8sAJxFMFFzzlBTuA74EDIA6WhXK/WtXW4l1rm19+15wXMdgge/Z2W0fhxN+Fpygi6NDGady3v3XhRyOrgp7g8v6aD0x+nWY5i2hPzS6pAwcFC6Zha2QGfRb7UBS9ymFG7ji+yGwJUShfvoe2c2LJGuJVbClcyC+CvL7Pgx9QcuJFbDNdyiuH3FyN0gYR8+gqnlMQy4uc1rd0sXpyO2tySbhJZ3ViHh4k57Lma6we9hgAxXzRdRdNVisLIhZKOyoM2lYu+crHMW/3Smat18sF6f9Aye6rtrX1oIizq4d1J6EMOwsaNhGLT6+P6iyJd0IVrfbLqeyC7voe9dzOr1GfIuXgzVlXOcdfU7z+/xmDm4q1YiHyWAV/eiGbX/++He4C+q9T61z9fi2Lh5FDl6ZoghyBHVaDUBI3u6xvgqbxOgCAngQ1mBDn2cvAVQsMFchB01NwyGCmjrx+k6wIcJU2PGZCD0JGcr+5OZ3bRCqjVwXU3aPgPwzZ19cO+B9tm6O/KE8yoPSPIIcghyPFRBghivEMfQQ5BjpFBW+2dcIIcBI1LMbk+a3Q+v53kM+BgXsyCHIQOb+tvtPadRgEH80CQ4+MAp2cdjhiW1uR4Hxi1NgAKF/xl6Rly2mB0+whOjvG3DzbrFGTGmPOPX22Q1Hq/cWUdGiPMy0twa3KM10Pm1DqMVo+CdWXUbbC+VDkEFcUJYA9jTlmGG+QgXGhdiKwku6LhPyXtjJ57ZkIOQoaax3Gt/bYvgEOQ4yPgYCWJ4KLnnCAn+AdmrY2QwnmvS8+Q0wkWmxXyHDDxxLIDO1M98CSnHB7k18KDmAS4lFYLCcVVcAPDxJTDk7RyeFLcAHFp6IG5UBL2Rk6DK6wjfFxxAzxJtA+wkrgieNz2dD6OyIYH+Q2QkF8OlyIS4EYOponxFwKLN6fQMYjbw8WlFcKDHHtYpcFHfi+4IUdnPWDZJlaxsi6at4Gl1l5O+M2uMi6EiqUtmG0vh3tpVawuWZk63mP16ShzPWUZjpCDIPI4qwa+fex9azmXqwt3U5x+rfSAjKewZkMOgsb1J8nQPTSma9YAPZZfi0o2NEWFafIfaXJ8BB09YCOGJcjxPjASPIRPGWmHnGzInN0B29g8rJ3sgNU6D6Pz67CzMQ/dE+tg25iAJ7VWODjeAsvEDMzubMFo6YQQ1uYMu7M9AykZE7C2Z4PRkRmwbttgdFoWV5MVbCszLG4M3ze/BdaJKRhY2QGbpQHabDZoi7DHPzs9BZbNfbB2JEDe7BbYZjHcFpzsuQCNDz5qx9CBHA31gGW7vQ4DI1awneyDpXYC1mwT8GDAVQe2jWUYte3A2kQnNDMQSoA22xHsLM1D9+wWHKwMGSrLcIUcDh9Pc+rg6vMCwCkoJVnC6a2HGVWQoWALh8dh9OgPyOHAceXxSyipa4OV9XVF4FlaXYWcigb4yrEQmb/ny5EghyBHUdgIMMIHMIKhLr1Czt4+2DZssLZhA+v0EDxBsNiegQcROCjuw5plCrpHpmB2bwdGR61gm++0d/5DNtiZWhLCbkG3Y6qrZm0HLEs2sE3Y7ZFcSiuHQXlcAzNgO9iC2ekJqCjMhhTLFhxsr8DoQD8kxGDaDshx5OXjIRusDXWCZZODzRBYwwly9NTDog1sI6hJS4A8BjB2yGnb2IKBDNSaZcODtELHMx4Gy5Q/x/Crhsoy3CFHBJTMmm54WdbGPI77A2rEtPDcn5Ajwgq6bfj48gO28BiPeC0+N+ucIIcghyDHRxkIBogI9jx4hRxhusr+z9U+YOJ528YOjNbiFFQDVHQNQVybFWxL/WxwvTSyBbaJeaZBsIflA2g2tNl2YHTeBTkJraMwvy2LK7cNMivLIa5hAqwHNhisboPMtFooGliHg40JF+TYHFuvGeS0gWVzBSrYVNgErB1w4PG+3iR0NDn8WzzUw7irbPPmt5yaHBfkNEBFj0uDYwchDo4YP8a9YqgszxLkyCHE39eBghyzIMZbPAQ5Pg5w4hSUnnOariJNSbCDiZn58wVyLtVbwbazDpZ5nAaxT1ftHO/AmnUdbDsrUIPTJg4I4WFnV3YYpDyJ6QTLNk57rcPOthUqO2Rxldo1ORacEtucgQ7U5GxawbKG01XNKpCTAE+G1mFnxwZrm/twcmCFTAQeDb9Qhhxets56cJbtCtgOd5yQw8NhHdhmOyGHacdmYMw5XYXaMQ45E4bKkiBHu2VlvVAUbpDzD5/+BPeLynX9mT9nZucX6nHpARsxLEEOQU6oy76e/HuGHG2A4ISIWius8ekqDWDhfM+0sCVQMz0PFTgtljPD1glpTSO4IUdnPZhSnsbKMpggZ2Nzy5St23phxF/hww1y/vHCdUhqaCbI0dNhi2FFcNFzTpBDkCPKUbifmwo5xRMwMNCgSXOiFT70hrtUOQWzK+tgXZmHmhztcECQ415WRsoymCDn+PiQIEfYzeRt+ijQz89fvgdN4+MEOUYHGT1gI4YlyCHIMSpzofieqZBjigbBfbDVCzpGwhPkmFPuwQQ52B7resbDBnTCTZPz3bNUWHitvJtLrS+l6SphHY8ILnrOCXIIctQaWDjeX1rfgMeZlWf+N2Nd0fWP0mxZGJ9ZCIs6CCYHnVhHkwvLBDlBqM35/cWbEF/ToLvNEeQQ5OgWGrM7a4qPIJFkgGQgmGSgpnssLEAnXDQ5uOD4bn4pLNj0aXFQpghyCHIIcgQZCKaOlvJCAz/JwOnIwP7hPkFOkGhzcNv4/7sdAwPzc4bGKoIcYYDTM0UlhqXpqtPpiGgAoHInGSAZ8JcMvH9/DN3jMyENO6Guyfn9xQi4mpZrGHBQNghyCHIM0bG/OhaKlwYtkgGSgWCSgdnldajtDs3FyAg5//LNTfi7P14Ojd/Hl+F/fn4V/uvqI7icmAnPq+thXudCY7nsnAnIWVp/Daht8fYTtTN6zr3FS5oe6rTlDY+uSSZIBkJLBg4O92FpwwYT80sh83tWWQfXc4ogIrc46H+3covhXnE5vGxshqaJn5V0uwAAIABJREFUCZhdXzXlD/iZgRw90GJ22Jz6blMqizrF0OoUqb6ovkgGSAZIBk5XBghyMqvBbKiRx0eQc7pCTp0MlT/JAMkAycDZlAGCHIIc0jIJ67KoI/TcEXb2D8PrNzbYsL2G9dcbsLqxDivra7C0tgrWlRVYXF6G+aUlmLNaYXZxEaYXFuDV3DxMzc5BVUsHTEzPwPiraegZGoWRySkYmrDA4PgkDIxNQN/oOPQOj0H30Ch0DY5A58AwtPcPQVvfILT2DkBzdz80dfVBY2cvjE1NS+R2f38XXs3PQ9/IOHT0D0NBdSOMWl7B0urp2rIhefIsT1Q+VD7+loEzCTmFzQMwPLPs15+ozSFNDjVkfzdkX+JHwIjPLobkgnK49yID7sanw9OUXMgsqYbcinoGNRh/bkUd/PgwHqLT8iE2vQDiMgrhWWYRxGcVw4ucEkjMLYWXeWWQlF8OKQUVkFpYCWnFVZBRUg2ZpTXsnZzyOhYnXiOIFNY0QXFtM5TUtUBpfSuUN7ZBRVM7VDV3QHVLJ9S0dkFdWzfUd/RAQ2cvgxw8r23rgqPDfQZDyQUVcDM2BVILK1gc+N7zrCKWB/yepIIKNyjypbzoXWrPJAOhIwNnFnJsOwfgr9/C+pZkCowgJ3QaxFnqvPrHJiC9uArSiioZPKCG5vBwH46O9mFzaxMmZ2ahrKEVHr3MZmATGZcKLd39Eg3KaZXXTw9fMLB5kpzLtESe8tHU2cvAq7yxPSjy7imv9Iz6CpIBc2WAIMcPsEOQY66QUqM3vzzr2ruZRmVmfkHTwI9TPw9fZsHSqjk7HnytU5wqw6kxMR6cQrPMzsLY1CvnVBl/fvL+HdR39MLLvFLJO/w5Hc2XMSpTKtNgkAGCHIIc6vTP2JocnPZB7QwaO+OdEEJMVlktPEnJhZj0AjbthFNLU3NzcHCw6wzHwwfLEdcE4fQWTpFh3nEaLK+ynmmoHiZmQVljO2zvbDnzj89xTU+w5J/yQSBAMuBfGSDIIcihDv8MQQ4uBn6QmAX7DnCxbb6BkrpmwHUtuJYFFwLjtBUuHsb1Nbi25mlqHluPE0yd8S+/vGNwg1NouBbo9ZvXbnKMENfaM8DWBk1Oz7Lnu3s7cCsuhS2cDqbvobz4d6Cj8j275UuQQ5DjNjhQhxC+HQIuLh6esLA6PzjcgxvRSdA5OORRBlbW1iCnoo6tzwkW2civamTwtbXt0tKo5a29bwgeJ+UA93aNu7RwrZFaeLofvvJPdXv26pYghyCHOvszoslZ21iHqOQcZ30X1zUDrs3R2vHfeZ4OW9ubmsMrxdvSMwB34zN8igPjxZ1ZqHVSSkPpHu7eaumxL5p+u7MN+C1K4eje2RsEqc7Du84JcghyqLM/I5DT3jcIlc0drL7RrgxqcU5ODjXXP05dof0bXwaFpPwyplVBeza+xINTabOL2vOC9nJwyztPMyYtH9Zebziv+X06hveAR/V79uqXIIcghzr6MwI5BVUNMDxp136gQT5chKun069obGd2afS8I4bFRczPM4vYeh9c5yM+03uOtnxQI6Pnvb/eewZHxwfsneyyWmaYUM/7FPbsDZBU56Ff5wQ5BDm6Bgpq9KHb6HFxMdfEdPQPMUN7euoTLRPnVzXolpftt1tsS/ftZ2kwPDnF3k8vroa8qgZYXluFw8M9XXFu72yz3WF68o5h7zxPc4IRGiHka5P0xkPhQ7cNUN2dvbojyCHI0TXAUCcRup2EON2EWhy0UqynPt9svoH7CZma38HpoZ8evWBAgmkXVjc638VdXghMaC359rNU+OFuHNuuriU/QxP6YevD+yO4/vQlvHtnn57LKqthxg61pEdhQlfmqe6o7ghyCHKcAw91COHdIYiLdcenp5nrBr11ju4c0FeVlvfQNcPj5Bywbdo8hu8eGoH7LzKZVkdLvAhH/aP61vSMT88ATlHx+NFOEBoP5Nd0DG/Zp/o9u/VLkEOQQx39GVmTg0bz0GAedvjHx/tsfczKmj4LxrgbS8+OLASYx0nqQNExMMzyhPZ6tAxEv/7yDm7FpgDau9ESnodB1xW4dRyv0YAgWm/mz+h4dgdAqvvwr3uCHIIc6uzPCOTMWRchWljw29rbD41d+qz/ojsFNCaoZ3BAz+HJ+RVu76CH8oiYZF3b0tGZaJbOBdPoyfxBomuaDZ2Okp2c8B/c9MgohQ1feSDIIchxG3yowYdvg88sq4G23kFnnaM7hKbuPue1lrpH9w89w6Oa38FdVeiNXB73zu5buP9Cn80cnC5DOJLHpXaN01ro3oHb98FFyy+ySxQtJKvFQffDtz1Q3YZ/3RLkEORoHjCoQwj9DgHtxaDn8Tdb9umhvf1dNm2lZwoK48At3OitXItMtPUNQk1rJ3z4cMwM8iXnl4Nldo69e/t5mtPFhLe4cEeYHi1OQ0cPoJdy0R4OTlsV1TZpyre3/NDz0G8PVIfhX4cEOQQ51OGfkekq3qHXt/dASqFr+ghhBXcbpRZWwur6uiZ5QGgpqtEGC7irKqO0Gu69yGDvIPQ8yyyE1KJKtvMK/WTxvKkdcZHwtahETYuFX83Nw4vsYkAHo9xHF8ZbWt9qaAu8Wp7ofvgPkFTHoV/HBDkEOV4HGGrood/Q5XWIA7642wifdw+NMg0NwouWHVQJOSWajAPilBhOEcnjxPU1392Ogc7BEa8yiO9j/uTfIV6jgUO0BYRb19GruvgM3TpklFRL7onP6Tz8ZJzqlOoUZYAghyCHOv4zpsnhnX95Yxsk5pVKtni/Pzlia3ZwizU688Q1LQcHysb60Fs5TltNTM/4VYZwy3h5Q5tiGosry8yoIa67wWkwOdygvy50AYHG//h305EGP5KBsyMDBDkEOdT5n1HIwY6+c2AYfn76EnAHkrzjR3jJq6yHyw/jGfDgjqR1mW0ZtKCM7/M1NvI4fL0urW+RaJxwXQ9qdHA7/L2ETKa1Ka5tdpvGwi3mVS0dcDM2BXq8aIB8zSO9f3YGTKrr0KtrghyCHLfBjRpy6DVkX+oM17vkVtSx9TG4uJdbBeZxom0a3CGF00BoZwd3OOGvqrkddvfewszCgh10ZmZNlaXKpnY2xbT2ep1BTUxaAaBjTUwb1/WMvZJOSWF+cZExaqhw/U51SyegI1L+HXQ8W3JN9U31jTJAkEOQQ4PAGdbkiAPB0uoqFNY0Mu/kuIZlZnFRUTam5+YBnX0+Q+hJznG6bUCbNwhDYpxGz4tqmuHbyBhm1ycqOZet6cE8bTp2hYnxbm1vsbVBOC2FRv7QLs/evj5jgWJ8dE6DI8lA+MiAKZBzcHgAtq1tWFjdgIn55aD7tQ1PwYPMauevsHkAbH6AGx7nwvqWMy1MN6m8LejKhNfT/OoGqzusQ2rY4dOwfalLnOpBjQ4uLL4RncR2JPWPjcOOgtdv1PJYV1aYXyrcPfXpT/fcpo705gVt2vzp6gNATY7aeh/ckdXY2QvPs4rYri1cVDw1N08yTMBOMkAyIJEBw5Czf7APkwsrUNszAfmNA0H9S6/ulkBHoCEnJr8hqMuH1x/WJdYp1q3egYnChycgLa+tQf/YBMSmFQB6EX+amsfs7KBBweN37mA8YrF7GfdVHvb2pNNMb7Y2GdTgYuiopBx4kpIHtW1dzO6Or2nR++Epu1SvVK8oA4Ygx7KwAkXNQyExcOMArgQ5Df0W8OdP1ByFCuRw2MG6RU0PdRLUSchloG9knHkv5+tyYtIL2O4mXAgsD+vrNe7eSsgtYWuBWHoZhcyeD+6o8jVuep9km2TgbMiAbsiZW1kPGbjhg7YcckQACcR5qEEOLzcCnbPRCRjt7A+P9thamNbeAabhQXs4uFvLaHz8PZwuwx1TaJkZDQku63QiyuOhI8kvyQDJgC7I2T/cDznAUdLkBAJsxDRCFXKw7BbXXvs8aFFHczY6mqEJC6DbBLQ0/KvBdQHozwp3cdW0dgGu9yHZORuyQ/VM9ewvGdAFOfMrGwQ5wgJmEWQ8nYcy5HSO+tfQm78Em+INbKc5s7DItnsPjE8y31DVrZ2GAAUXEDd09kJlSyfzHD72atpQPFT/ga1/Km8q72CVAV2Q0zw4FbKQg1NWp/njU0CheAxW4aV8BU/Hin6ovoqIgunFBdg/3IPs8loGJ2gsEHdKvdm0OwSV1xna6PnztYcwOWPfeo5TVDu7O/B68w18cysaUgorCXIMasXkZU3XwdNeqC4CVxdnAnJCESyCKc/UIAPXIEO1rB8lZcOzzCJo6RmA1t5BZm8Hv6Wpq59pZNBastK3oeG+x0k5zIAfPsdpKrRyjNvDcQv7g4RMxfeU4qJ7JKckAyQDchkgyAny7e/BADtyoaFr6kjkMoDTTOj0M6uslrmCODzah83tTbh0/xmMTb0CNBT44f2xG7DgtnS0mHzx5lN2xHgbu3qhrr2bLT7GLePytOia5I9kgGRAqwwQ5BDkeJ2C1CpMFO7sdjwIMrhgGDU26F28tq2b+Y3qHLTvtsKdV7huR5QR9EqO7+C9yZlZprXJLK1hPqcQmvKrG2BhaUnyjvg+nZ9deaO6p7rXKgMEOQQ5BDm05sEUkEBv5c3dfYDuF/CI6214R1TZ3MGsKPNrPA5PWJjPLH4PnW+OT8+wbejjtODYWXa8fOhIAzvJgH4ZIMghyCHIIcjx+4CK/qRwGkrspPtHx9lOLPEenevvxKnMqMxIBtRlgCCHIIcghyBHAh/+6DBbevrZ1nAxbtxuXlDd6Pe0xTTpXH0woLKhsglHGQh+yMmNhN98lAL54vHcOTjn9rsAkY0DEPnROTgfa54vLbPj07SQOPYCnPttJCQ0DkDCld+x80jHEe9pisPEcOEo+PRNge3Q6zt63PxM4ZRUZmk1QQ5BNskAyYDfZCDoIYcN8h+lMHg5h7AjDN74TA40ZkOJ2fGJ+Vc9R8jh38qBR7wnlIFqHCaGISAILBCEY3njguTuoVFJR4Y2dOKziyX3wvHb6Zuo/ZAMnJ4MBD3keBrEVSHnSiT8hmt6HBoRjAeBxaUB+h1czHVoRRhARMLF3/LnrmcSyEFt0jm5pqgWLv7WFZ7lVwQSPOd5OSeEw7iEvDk1VQgn4vsmwoqnsvT0jBro6TXQcCl73Fo+OvVKAjS2TRvcf0F2cMKljuk7qJ8IRhkIS8jhUz35jQoAwqFBBAkGIi4AQXj6zZVapjVyQg4DHPuUmBsQiHExmHLExd5xxcvg5ZwjDk+Qg8+4Jofn9xSPwSi4lKfQ6lDRUKB1ZUUCOViHN2OS3e5R3YZW3VJ9UX0FswyEJeSIU1iRH7kgg019ObQqv/nogkuTIoMUhBEp5KTAeVEL4wYc+FwBXoR4OBhJoElNk0OQQwNfmM3R34pLAXS+Ke8Mn2cVwfrrDbf78nB0TQMpyQDJgBEZOEOQI4CIsKCXLeT1Ajnnzl2Ai4J2hwOLeORTZ/zInhHk0OAVZrBipJPZ3duBRy+zFWUBber0jYwrPjOSFr1DAyHJAMmAKAMEOaiV8QI5ds0QTn3J1+MIO53Y9NMFOP9bYUoL74kaIEyHa3wapdDF1gsF0RSVCHCiwNA5dSB6ZWDU8gpyK+oVQWZwfBJyKuoUn+lNh8KTbJIMkAzIZeAMQY5jO7ah6SoOMwgm6qCDoMKnuZyQwEDHfUEzPmdg48jPeVws7YAcNq0mTmW5TY/x/ATmKBcauqaORI8M5Fc1QO/ImCLIvN3Zhp+fJik+05MGhSWZJBkgGVCSgZCGHCdInDIE2PPhYZFzUOTPOBApCQ7dow5Fiwy8Oz6Aa08SFdfj8PfzKuuhR7a9nD+jI8kZyQDJgC8yQJBjBoCwaSgFLY4ZcQdBHL4IGL17tjuoquYOqGxq96ipWVhehjvP02D/YNdjOJKlsy1LVP9U/0ZkgCAnCCAiuDRS7hofI4JF71CHNGKZYlNRBxrgpbC6CVIKKwhyaKE6yQDJgKkyQJBDkCOxIq0EXAQsBCx6ZWDs1St4mpIH80tLmjusxNxSwKkr9EauNz0KTzJKMkAyoCQDBDkEOQQ59M/JJ6jAdTdHx/tweLQPB4d7bNrpyuMEuPTgGZuGioxLhVuxKRARkww3nr6ER0nZcDUqETDMjw9fwOUHz+Gv95/BD/fi4JMf78LA2CQsLi/DwtISzFutMLOw4FP+lDo+ukcDIsnA2ZABghyCHIIcghyfIKKioR2+vxMLt5+lwZ3n6XAvPoNNUyHc3H6eBnfj0+H+iwx4kJjF7OU8SMiEJym5EJ2aBzHpBRCXUQhoFBD9WCXklABqdF7mlUFSfjkkF5TDjegk0u6QjPokowQ0ZwNolOqZIIcghyCHBhCfBhB0vtmnskVcqdPRew8h5/37I5/yqDdNCn92B0Wq+/CqexMhJwXOM9su/DgAzOmkkr0XZjgvEpi1Yb9DhpAfSVruxvhEdxCutSmebeO4wrkv2DX9mcSYoIf0MJyJ5U6NPrwavdn1WdHYBj3DUg/jZqZxMzYFTt4dEuQQjJMMkAzolgHzIMcxsEZe+Z1rgFWDGbX7EgjxMIjrCucr5JiVjwDGg3WhZD3ZYLmbOWBRXOEHTJXNHdA1OKK789EqC7fiUuH4+MBv8WvNB4ULP9mlOg3/OjUPcpTAQ21Qld0XHWequT1ArQiGc1oUZloNbklYcKXA/VJxS8KxSpBjd9FwjoWxO/BkjjPR6rDjPZcmRDTyJ753ziNIXPzIkTfUqOD3OuJ15h/LS/IN3JGomJ4DjDi0yMpN+r5QBjy8vE7k78ufq1xTRxD+HYEvdVzd0gmdA8N+gxBc63N0tO+3+H35dnqX2gbJQHDLwOlDDhvoXQO06NJAAjWNOPg7wuFgLdFUCCCD8QlTNcx1gnDtmkJyn65yvSeChutcmh8VzYwDaPjUlyR9ETJYOA42HHgc3yeDFKcndfn7amWA4STPHHkV31cBGlf5uL6PGnFwN+LTrp/ati5o7x/yG4TgwuWDgz2/xX/a5UfpU/siGfCfDJw65CA4cCCwD7AuqJCs6REGfgZCXOPiPNoBwT0+AYAkA7s75Ij5cIIFgysHjDAwQQ2NC8rcoEAGEkxDFKsAGZ48lIvOO8X4hHNPZcDKjSCHBsUAzd/XtXdDa++g38r73osM2Nsna8g0EPpvIKSyDd+yDW7IYU4shekkByzgAC+Z9hHgxa+Q40zHvhjZpflxaT0kYOZwwumEJwFScKpJ/g0iEPHvkHyr8L7kvjNfAkwR5Pht0KUO0d4hDo5PAHoRxy3f16Nesi3guBUct4THpOdDdFo+2yoelZzDto4/TMyC+wmZgNCCW81xGgrX29yMTYaI6GS27fz6k5dwLSoRrj5+AT89egGXH8bDHy/dgfTiKkjOL4f+0XGq1wDBK8l5+A78Z6luTx1y7OtKXJoRHLwl8MA0OBccO7ccgzjeU9Om4DNhesotPicQGNDkON/FfEjfd2p0BBDBeyK4SAAIw51Tma7CdFg8+N2uspG876kMJPlUBzBnntXCO+6fpQZB36qtY7eurDDbOMW1zVBS1wKPk3IgKiUXnqbmMbiJTS+AZ5mFEJ9VDC+y7bZvkvLKmN2b1MJKSCuugoySasgqq4Wc8jpm6biguhEKa5qguK4FSutboLyxDSqb2wHX/IxNTUNLzwDcjc8gyCHIIRkgGdAsA6cPOTiQsgFbeRFxPpsuUnB+KXlH+pyBjXOhb6QUkIQBna2XOXeOTZdJYETQINnTt8OIGC8uWpZrYhg0aIUczAcDHf7dAvA48sjyJ2pkZHFLy82VH1Wwk78vlIUn4KGBX9vAf5bKaWVtjWluAvnNa683GDgFMk1Ki2SfZCC0ZcC/kKNxEPU0wNIzQRNzSuVJjTy0G7k/6m91Yx2uP0lkC47b+gahtXcAmrv7oamrDxo7e6G+owdwrQ4uSq5u7QTujRy1M2g8EDU1xXXNUFTTBIXVjZBf1cC0ObkVdZBdXgtZZTWQWVrNpqnSiioBtT9oHRmtJfvjeyhOknGSgfCUAYKcUwKHUII3avzh2fjV6hW3ayOg1LR2qf4QVu69yGRrbdhUFU5XJefCk5Q8+5RVaj7EpOUzMIlNL2TrdJ5lFsHzzCI2hRWfXQIvckogIafU6cbhZV65w5VDBaQUVDCwSS2qhLSiKkgvrmbTW5mlNW55Km9oA8vsHMEPTWGQDJAMuMkAQQ5BDrl1oI6BdQzoMRw1K7jwF9fL1LZ3M00Nbg8P5h9CEPq6Qthq6u6Dtzvbbh2dGtDR/bMF8FTfZ6++CXIIcghyzjDkoOfwzsFhpmnBXVFo1O/wMDRt0qysr0FFUzvbsZVdVguW2VmCnTMs2wQ0Zw9olOqcIIcghyDnDA4EotYGdzTNWa1hAwS/fDiGgbEJiXZnm7Q7YVO/SgMZ3SOgUZMBghyCHIKcMwI54aS1UevQ5Pe5dicyLhVIu0MDoVw+6Dr8ZYIghyCHICfMISectTZaBynS7oT/YKZVFijc2ZKFwEKOaMAOzx02YOQ2akzfeSSkpT1uwb2EGwh5ehbgLd9imRq0g+OtTKhTCL1OgWltBsJjrY3Z8kfandCTZ7NlgOI7OzIQWMgRYUEAD4Ick8CIIOfMrzsgrY32zttNu9PVB7R2R3v5EShQWYWCDJgGOS6HltySr+COgPtpEgdhDZDD4OcKuj9wWAUW3DW4nnFLwahd4daDzzm1RExLwdKKFJ7zd3held5zaGuuoAsJx3On9WGuyeFHAVKE7xI1JFJryULZYJnw+EU3DwiEGJfzmfCOCIvOMnX402LhVcKK7+k4DwVBPst5JK2N74MNaXd8L8Oz3Abp24NXfkyDHByQuZsDHNB/81uXd3EnADkHZMcA7mW6CkFG9EOF1zwNpWd8+svNFQSDBQFs8FoAJheMiNCC5yIs2a/tzjaFcDKocX6rCBHid4v30f+VJB8YrwNQ8B0nVCFEycM6wEqMWzyXpCNAmIH71ICDtwHv7L6Ff/vyGvzTn36Ef7lwBf7w5VX6+VIGX1yF3//5J/jHzy7DX+8/O/OaQWr7wdv2qW601Y15kOMcYB0DdW4knL9SKx2cnWG0Q47TgzcOzsL7TJPj8EpuhxqZ9kIIyzQiEmAQIIU52uSanAtw/iO7LyvRZ5UTgpxAI39fABMJtHC4wPD2NCTfw+CLp82PdhiTan74M9k3yspELB9nng1AjfxdakzaGtNplBNCzreR0bB/sEs/E8tg/NU0PHyZRZAT5ovyT6PNUpqB7U/NgxzmSBMH6BQ4z4CiFi5+FAkJgoZHMgg7gUHmqVsYlKUg4x/IYVonBmMObYnDYad2yBkAjAPhhR/lkCBeMw0Un5YSykAMg+fSfHFYUjiKMCeeC+Uoj1vvNTXKwDZKPeWNkPPD3TgajE0ejKdm55gFZT11QWGDt51Q3ZzdujERchyD/EcX2IBvH6gvwG9+yzUjUkgRtStuMOMYoBkQCJoRvBanq0StCAvr1NbYNSc8rH1ti/J0lRQm7Ota7PE6tC+yOF3PhPgYXFyA83yqyQtgOL8X3+PAI3+HaXkUNDfycCLYiOfycD5cUwcRvB0EQY5/6oYgxz/lSn0JlWugZcBUyGGamnPCwMwGcdk1hxZBi+Ec9GUDMbvvaeGxc7rKruFgoMMX6jrhhE+NqSw89jZd5XHhsUuzgmk7oUr2HfZy4VNO0nVGbs/k+ebfc04lfgnY8GkxAcDkeTFwHWihpPS0d4QEOdrLSo9cEeT4p1z11AGFpTowQwbMhRwDA6inqRM1+PH0zuk8Q7gwFyxO5ztc0Camb4agURz+6bAIcvxTrgQ5/ilX6geoXAMtAwQ5voIZm1ZS0bL4GneQvB9ooaT0tHeEBDnay0qPXBHk+Kdc9dQBhaU6MEMGghpyRG0CnStrWQJRLmYIGsXhnw6LIMc/5UqQ459ypX6AyjXQMkCQEyTakkDAitE0Ai2UlJ72jpAgR3tZ6ZErghz/lKueOqCwVAdmyABBDkEOOeg0efuxGQ1TaxwEOf4ZCAhy/FOuWuWawlH5myUDBDkEOQQ5BDlkZ0cmAwQ5NMiaNchSPKcrSwQ5BDkEObIBLpQ6JdLk+KcDJcjxT7mGUtuivIaHDAQv5Gg1hidAChr2c/mkcjmslNuvkWxNF+z1GF2zEu7vUWMP3sZOkOOfuiHI8U+5Ul9C5RpoGQheyBHgxRBEiO4kZHER5OjbqRVooaT0tHeEBDnay0qPXBHk+Kdc9dQBhaU6MEMGTIQcl+bkHFrp5ZaNGWBwS7xo9fcCRAoAwrQvglVfp6sG0ZIv07aoWSwWBmyulWFaIIeFYdGCsMMnFMsftyDsJW4EIh7e5eXc4W+LWWN2GQFUC+uCNCwHwQI0pi2UE5YF+35mKVo5XWl5CXE5Qc5TPQhl5Qzv/Z4ZgkZx+KfDIsjxT7kS5PinXKkfoHINtAyYCDnSwVLUluC5a8rIPgi7roX3RLARzxm0uGACB3rF9xmwpNjXmAgg5YIMe1pi3uR+rcS4ndDBgUCIkwGNEqAohBXTF+OM/Oh38BunpWQZAPF4nI5PZb6/nM+F8lO4J/lWhedi3tTOAy2UWtN79+4AeoZHoayh9cz+0kuq4bMr92nhsMnrqghyaDDW2g9RuOCWFRMhR9TW/A7O4wDOvHsrDN4CLNghg2tdLsB57vtKDjmiRkZ8Xxy4jUKOYtzi97hrVaTw4DmsBB6ceUyB8whJsQ6Hpvi9znyI2pgLcP4j7uTUlY5T4yV+Pzt3hTl3TqwHzzAkyaMszmBrxIsry1BS1wI/P02C/KoGKK1vhb6R8TP5q23tgj98cZUghyCHZMBkGQi2fo/yYwymzIMc5+CNg6l9oPUOORjOpaGxA49jCiYoIEfIm2zgd4cc9bBSgECAuQCRuZFwnkFgCpz/KAVEDY+oTcp3OBCVQw3TJCl5MFeth9CGHKa1GRqF+KxiiE7Lh7a+Qdjb3znzHfvqxjr8x8Wfz3w5mD0AkCbH2IA07n0AAAAZ7klEQVRidj1QfFQPvspAACDHvn7FNb0kByABDnCADhpNjj3f4jocEVakkOM5rPgenuM01fmPLsDFXDt4SKetBhjwuMrLrtWRQ449Hq7hEQAmzCBncVmqtZlZWKABXfjHGlSQ83YWhoe6oKm7D3onF2HbZoHh1V33+vqwAbOTK/Du1y2YHRqD9SOFjvxoBYaHZmFL+FZfOzs97xPkKNTJKdWFnnqjsFRvchkwD3Ic2hv7Il35NIl0CuXilQuuNTUMbAI7XeWcIsPpIQkUDLBrF2A44MW5MNoFZHLI4dDhXKSspGXh2iBMU1jPw/IgXju0N/a4hOkq1G458yJf3M1BR1rWrmlD/lz/US40/r4+Pj6AHtLauMOBwiATLJDzbjID/vvnDKiZnIV12ywMd1tg/W0jXLpVC+vyfI+nwGels/C3X4cg7o9/gW/rV9y+db3+PvzdH1NgWP5ugK4Jcmiw9Hc/R/EHRsZMhBytg6d9EFbSTMg1HnSttUz9Gy5QjZG0NvobfbBAznD6bSjckOd/C5qibkPhqnj/EDoS+L0hiPs5Gq79nAOTH4QwH8Yg4U4i3LtFkBOotkfpCPIXIJCmMg9MmQcEcnCNiUvDcQ7UpoAIavwLK0bL15+NUdTaxKTlQztba6MwxUEdj5u2A+slaCAn8zLc63Wvt3e9ifBZ1aIr70d9cO/nUrCy+hyCuFu1MNkWDdc6t5xhtjqfw83OMSgjyHGWiT/bIMUdmMGWyvl0yjkgkGN0cKX3ggN6/NE4SWtjToMPFsj52/4YpEZchj/cSYTU+iFYf+f4PoSaqxxqTgChxzU9ZYec9aMhiLvDwyxC4R3U7KwQ5BDYE+SRDPgsAwQ5fJ0MHVV9WJkFOQeHe9A5MAzPMorgaUoetPb0Axqz+/DhmH4Gy2BpbTW4dlcdbcBsdwZ88fVzaHqLoIPTU1chYRbPcfrqMdSw+3jtgJxfT8BadRvuDRzCuwEOQacPOY+ScuDXX96d2d/7kyOfBxiz+g6Kx/GngaBHt0wS5BDcqMIN16SZ1cH83+9vwT9+dhn++fMf4V8uXKGfCWXwz5//xMrUrDoyK5712tuuKajxFPjP7DH4Gy5Eftgo7JhyQc7fUOMTVQipUYnQwXZbnS7kNHb2Asrr9Scvz+wPTTVkl9eCZRYXidMgS2UQmjJAkEOQEzDI+TYyGvb23ddtUOdhvPNYXlsLQmOAu9CbdBXixh3fhQuJf8qBpsbHLvBhg6YAOb+ewGTpfbhUywfU04ecP197dKYH918+HMPA2AS8zCuDqOQcZhpge2f7TJcJ9VXG+6rTKjuCHIKcgEHOd7djCHJM/kccLJAzWXAD/jsiGqIyE+HSDzfg2+Ix2Be+dTL7KvzTn7iWhneUUsiRdoIEOdLy4GV2OseV9TWoaGqHW3EppN0R5DqY6ojyotw2zIMc0UJxmIGDyxqxumE+PrXj9cjsAtmdlDoNHwZ5eZnVeAhylBuhL+UbLJDDv+Hd0WFY/NPH6aqzrsnhdSoeSbtjfhsWy5fOzS9fghwNgOGCHBN2OzGDfna3Dr+RGAA0IW4N3+IVwhTiMKvhEeSY34CDDXLMkpXTjocgx7usknbHexmdthxT+idgOuRc/MjlzNJp8E9uqdfpiBINA/4O0AKy046OhmdS304IBw5/UAoDtN3HE7eo7PBQzlwrnIPzVwQLwhLgsGtsWJ5+GwmRV34H9m9x5BfdMTg0V4rf22h3zcC/6XyswxmnQv6MQEeg3zGroQQcco624J1oZC4M1cwEOf4ZaAhytJcraXe0l5VZfSnFo73MzYWcc4IvJbm7BOcAL4ACdwUhARseh90ysstwoP3aDhsyqFHxSu6mgRHCMfhxgo17nuSApgg5at8rc9sgTSt4NTZq8GRWgzINcjYt0DvU5/xNbihMkex3wb07lbAeaMhZbIW4Rgu8CxBQEeRo7+z0yDFBjrFyJe2OsXLTI5sUVl8Zmws5TmhwaDqc8CJoRs4JvpgY5Lj8QbFB1glHIng4wMD5zO5Tyg08nCCF4R2QJPp6wnNHnuS+p9BJpt1hprvWxQVLQp7ka5Dw2hG3KzwHGvc41YAiGO+b1ajMghz0a3SpahbWd7dgfXEMajLvwyWJ/6NDmCxNhDI3NwP6Goeh794cg6bJjYCtSyHI8U+dEuT4Vq6k3fGt/Az1PQH6YxVqeQsI5Einl+zAowooTpARgILDi/OZAFECXEgBQeF9Hg+frorlEGL3DE6Q4yoPsSzNEmozIce5PRkb9ochiPs+ByZ5I/+wC/u7W7DPre7y+78ewju8Lz7DsBgOj/tcI+QI57x2dFg83t1d1zSY/B5ei4tv+XP5PZ7mrm9TagQ5/hlMMkqq4d+//hkSckro52MZPE7KhssP4uHjy3cB+4CUwoqA/Qkwq++iePzTzgJRrrogp3t8Vn27sRfNhsuztxxyXNoVrn1xAZDaM66psXs7t4d3H6DZNJFTmyR9rq7JsWuAXHHK8+vQ+Hj4XrlXcYQ8iddxAbZEmAjG89K2YdM6pEBAzrvZQrgWVQg1Q42QGhUN2YuOxrnRCjev3od7mRkQl5kI337tcP44ngL/HfUcvr0aDVFVY7B/ZGHvpbb1QU1xNFyrsNtteTeZA59FPIdsvF9RCcO7J6B072/jKfB36UOszDAvX/yE26ozICrqhkvbhGneiYZLT1NYXr74+jGU2Yx1IgQ5xsrNW+da3tjGLElHRCcB/cwpgxvRSYC2shAgvZU/PfePXJ/FctUFOcsbbwxBjn1hMF+QrDBdpXPhsRMGULMjTpEpwAMDHeeUFZ+SEqe77PDjmq7Ca+n02kUPC48TeJoyjRIDG0e6v7kSCee95NP5TTy+IDn2W+ZN65DMhJx73Q6NzKoFypI4QMjcBqCF3fgueMdcC9yG7GXecQg2WBBKYrqcNl32O6PhUht3FrkFNQ/ttl2Yl22JN+0TULrnghzMy30BXhah8Go0NO2eAAuT1OcsV5x++7bR2BQXQQ6vU3OPta1dTPNwFgcFf35zY1cf5FTUOWXfn2lR3Oa2iVAtT12Qc3JyBNVd4+qgo3tg9jSl5OmZHUyk02BSTU0wQQMDHhWNUjDlUykv/397Z/TURJLH8b9un/Zln3yy9qrYqrPKWmq12NqCktPDY4+TOu5YKbi9uAti7Ym74OqKLqioKBFBwSBuRBAkERIgBEJChMfv1W8ynUwmM8lM0p0E+D2khkxmenq+8+3uD909/VteDUmrkGRCTt2P/Wjv8aDuqyb0zolhpgm0f96G3vSk5D7UnRtEYG8K7V/oPTfa0JUJcvSeFyrEkz+eQl1/ZlJzb0sKVKLTHtT8pQu9I1Pwr6euZ7UvAzmUF+M1U2m3+3TIMVxTg5ysOUXOKyeGHOdauamkGXLU6MqQo0ZXN94+ase6ghwSZ2VtDT/fm5AEOvlAJt9vek9LtfaOUK9OuveIerD+jL+6BsDKQ9ubpYA0wCHvyIQcMSeHQON4h+iJIZjpwrCYd0NbbV6NC8jpOYV0L5GWjmH+TTyCBf8o+v7ViNYJHazM+9LDVeZrEuTogSrTx6QqPIac6qv4GXLUPBOGHDW6HjVwcXO/riGHEl/6sIq7468kgU7lG3OrHoyjvO/moym8nFuUCjiqIIfSDdy5oM93oYjXxmEpUaHQ0JFhf9KPS3WZOTliDg2lRVGwT/SL+EnifNP2uQe15p4XsS8NMKa80DXr9bAG6WNS6TLkmPRNTxSv3H6GHDXaM+So0ZXqLv5Ya1AU5AgxA6EwvL45DD6exrW7zxh6DmBvjYC56w+eY3h8Bn+8W0Zid0dJgVHRk6N5MbmEgfNNuETDVsH7aK5vRG1HN9o9bajtn0ndC008/qYex+saUdPShQYbyNlPLmG4ownHz3dpw2EN5/q0t7bCjzxo8OiTlusvYnglAat9meGqhJaXs/VNaPB40FDfhNZxfa4PQ44Sf4l6ScaWIce6wShVW4YcNbqW+lwO8/klQY5ZmK3tLayE1w7cZzG4gqvDxUMaQd5BvG/Kc3hjA/F4rCyNjizIMfvO8nvSMMyU81+OH70CcnJ+E5XQNnLiMCW3ETe/lm61z5xmXMwZEmnL2/KcHHlaGn3EkKNGV4YcNboavct/Z2ssFXIOsrg0BHftrvu5RgQ4G5ubZYGEg6wv5b2skGMCjXhoSVs8MBoJwjfYhhM9U2VblVjlc2PIya7QZGnNkKNGV4YcNbrK8v1hTIchx9AY0ptEv9x3DjoMOO4KbEUhJziBgas03NSN3sfziJY73IPBZzIrEoYcdx50qj1DjhpdGXLU6OrU10fxOIYcU+MTDIVBC+CJuSp2WwYc94W1kpBzWAs3Q457HzrxQrGQEw9OYfJ9xNSzG4bft2TbcxgY78OAfxv7sRkMXPUiYKqTnOQ3dUwEC77M8gdjPj/C5uHVotOWozNDjhwdnXuCr8eQY1HoP4TXQBNxGXDkFhBZkEMNiX9dRt7CGPu1Dw9tVxveRoAairRHCh0vI0/u0mDIcaeX08ahWMihN+U++cqDyagxXxNo19ZrMu7L/B2d82IyRKFFgpic8KcXpnSa18xxE2iv8+Dhe1ooMwj/RD/Oni5+Ne1Mupm8lrqPIUeelqU+i6NyPkNOugHLNt/q2jpuPHyRAzrcg5Otk5uCIgtyqCER6+S4uX7usREsTHjhz2qQjPdnWDRQ80mh443nludvhhw1OpcCOWd/9JjmfGVDTjyqr9ZtjmdG32MWscxihkn08VRctrjlcGv2dcjv8bGuzGraMf266ZhsFKPN3Ou0jXjW72KtKYPOIh6bMYabTT1qLnMMOQYdHWpm1pC/u9OQISeP0UIbG7g5OpUGHQYcd+YyF8ayQI6ogI0NiHjGOZV8AvGooQER51LlndhGNDKB9pP64oJ6xZ91PKVrk2bm3o2Nhh4I1BggVOStyC1DTmmezDyn7HRKgZz26QjGvm9Cu0+8VWeAj9kbevy0brR+24jaoaXU0JZYVmDag2O9U4bhLj96z12BL5lA4PFFNHw/iOHHg2ht9eBhTm+m4Tq6nxb6m9A8vo390Cg6tSUQutH+XROO6xPvtQUqZw33vtiPWrq+ixhudhpa7WfIMWhdZJm30pX32evKkFPAaGuRDdx6PK2tBcRvUdkbyUkhUw05tgExae2b75pSa+dQsMzz9XpPEPXUpMI25ATbXJ5CX08baj5vQgMF9aTgnXuZ47X1dGzTNIZzyDQ8tsFDC3gwn7YMOaV50k7b0iAngf2oF61nujEZo/xlPJB1vaQXrWIYS0BOcgqdNNwlempmr6BGg54ZdH6Tgh0tjdkrqM1ZtJKg/IIWEJaC0NadbtTWiYrm+GsJfWd0j85ewTFDiBFfbxM6ZxNwE8Mt655yrpX9fBhysvVwox0fW5x2DDkFCiUZa2Mzwq+JO9CpUCFUCzn2ATHNqxhnhrsy0GIZbJMap6z4U5nj86dpBTl2wUOLK7hCa4ac0vQTOpq3JUPOXgLR52LYygQ5sXn4JrwYvtOFGjPk7CWQ7n3ZS8DX+20qsOzKIGrrPLgl4rLd8+C4AU5S+c+9znBnI5rH9SGpeBB+mpg8cgW1J4VH/egVK3ETYJ3rx4LLGG5m7fJ9Z8hR49d8mh/13xhyJDTeR91ETu9fLeSYgSQTEHOy51TWHB4ryLEMtpkHcvKnKRoQqtBEw2MXPLS0So8hpzT97LwrA3L29yJ42NGIdt9oeuJxdLwLNZ1D8K+EEY150/uzVsp+34+ajlHEY140n0lBx35oELVn+uE3xmXLGZIVXjNoQnBEMLTYjxMtfZikScnRefSdy3h04WZqSEsD95vz2lAZ+dtVDDeH9ShDjuHZONTMzqO835mWDDlsNMP4vzPTFFu41EKOfUDM/ECSGq7S7skcbFMq5NgFDy1Nc4ac0vSz87IcyKFhq1E0n67HMb3HhqLcpyfNJ71otujJ2d8L41ZLGwaGutAwoocC2ZtH35kuPLSdJE865EIO9SbV/DQDAvt0vLUkpZWBnP31IdR1DGG4sw239Hk+5p5KS51EvDYXdShDjhq/Wj4fF8/lMJ9/6CBnO7ZVtka7Wo2RTMarUgO1kGMfEJPmF9QY5i/4f27MmZOT9SzTlfcMOk96MCbmRxjm5ORP80K6sdiP3MdZrSEz5U9SBcSQo6bRkAY5NGw11oVPdZjR5n5904bWni40U0yz1sHUujhiTo7ui/DIBXzyucFHlM5sH2pPUyy0brR3XEDzo6CpnE+g/YtGPcaaBw3naB7aYOrtwZUh1H35LZp7PGju6EazoScnBVWn8EnLUGa5BBcx3LLKTgFfM+So8aubZ3DUjq0Y5HwIi/9Q5D70idk5U8GXm75Mg6jSIBypzjATMiHn0y8btWCbFHCTPmdHgvYBMbWJx404droRx+vb0NyaCzmWwTYpwvnQBRyjRqnjBnwGyKGJxwMtX+Oz811objGmmUB4vAvHT6bydaLjImrP6w2ZXfDQAg1DPs8x5Kgp38VCTr5nlfnNIgaaGw/EDW8EujmPXim3iaMmhqwyeRS6Oozh5jAfDDlCV97mek2NJhWDnCfTr5XAyJU7j6Wnu7y6itcL+queDguzkweoSoP5wKp0DZzcT6FjZEFOoevs21Tk4ryFfgE5pkJlF2yT9qd7c0zn6NfKzPPRf893Tt7goab0C/iNIcedXsIDhbZqIUdNngvdk/3v+lCY9iaY2rwx5KjV1/4ZH93rVgxyem8/xsu5d1Ib441oBH/v+U1qmmSae898uP7gmfR0VWiQ2N2Bbz4gPa8yCk/ZIMcMBrEgAjTRMxJGwH8DDelXe+UV/BzIMedB0XeGHHnP0OjxIwU5K15cGvGXpc5gyFHjV6N3+e9sjSsCOTRvhmDkl/vjUguW1+fX0p3yp94QkPWwv7s2hJbLt6TmVZUGoY2IBjnrVRgZvXKQs4SxO31acM72X0exEMkuBDJ8EvXdwPCi/HQL5Y0hR43mRwpyFAG4lXcZctT41Upr3pfSuiKQ8/LNggYjrVcGpYJDV/89LV2ZQ1a0Rg4BGX2m/QvS8qtKA//SigY51ThkVTHIKWMlXu6KhSFHTaPBkKNGV4YcNbqWu945SNerCOT0DI6mweH9ipz5I6tra+k0ZQ5ZPXrxKp1u961H0iBHhQY78ZgGODRcVY1DVgw58is4hhz5mlIFzpCjRleGHDW6HiToKHdelULO7ScvQL0q5o/oGaGt+Tfx/c3isiVQUJgFcYx5WyjdwScvLNMk0d8sLVumS0NVhdJ96rMfz1ahQTwRw3wgpH9WQb024iMAh7Zin3G7HFqz1UC1+Rhy5FdwDDnyNaVywJCjRleGHDW6qq67D3L6SiGHhKH5Mf+4fCsLFIzQYP7753tP4WStm/sTM47TpOs7madD16V5QuY82X3//voIlj6sFIQGVRp8WNvI6rkxAo7575n5ACo9T4cg5+Lla/yRqME/L/2Ez07Us6YSNSWPNl38AX/6+m+sq2RdSdsrv94uWGce5EaV815dIKcccuiB01BS7+3MEJUdNLh9pfr1uyX8++rveaHk8uCodn03xnvy8o+8aVL+fxt9jo8uFt1TpUFkK4rZd8G8sPM2sAoaynKjgYpjn037wB+5GjzwTuCnG7+zrpK91X/nPusqWVNj2VdRv3Ca1QUX1fI8ygI54mbvjr+0hIf/DNzHQsC8eqezB7a5tYlrd72W6Q6Pvyy6Yaf8UL6sgGzy9dui01Whwe7uDt59CFmCTjC8XnRexXPjrTMvsk6sE3uAPcAeqC4PlBVyHkxmJvGa4aEUY1y68cASRmjScCnpmvMovofWiwcHVRq8eZ96q8o8TLWytlGSBqXox+dWV2Hn58HPgz3AHjhqHigr5Nj1jBA8LAYLz22xejjJ5I4l4FCaNGnY6hwn+6i3RkCNeTs6VfxqzSo02PuYsOzFIeB5vfihaA2c6MTHcKXJHmAPsAfYA9XqgbJBDr0VJWCB1rNZWVuD8fVsWlW4GJGezqQWAKS0r919qqUxMPIsfa3AaqiodOl1cZHfmbfv8Gp+Mf39h5sPi0pTlQZiAUCCGhq2Ih0XV8Jp8IntbBeV32KeB5/DlR17gD3AHmAPVIsHygY5D56nhqqGnk5nNbjBUAj/vT6izX8pRhQxH+fFH9mrHPvm3mlQ8rs3+3pOrhHRw0NcHfYikchM2N3djUEAVDHBNVVpIObjrJlWOd6IRjXQCYSKH15zohcfwxUae4A9wB5gD1SjB8oGOf8bGsPCsv3kYpqQ+/a9u5hLsZ0tEIhsbUezwEkITa+E9931Wv4mjrHaUg/Ts1dvbM8joHr0Ytb2d6s0aZ8KDZLJOBaCISR3dyzzQ7+L3h27fPF+rpzYA+wB9gB74DB6oCyQQ69POxHPLeS8nHMWZoF6dZxcXxyzvhkpeDz19ojjnWxVabAR3XSUD+rVcZJPPoYrOvYAe4A9wB44LB4oC+QcFrH4PrjgswfYA+wB9gB74OB4gCHnEAdv5IJ4cAoiPyt+VuwB9gB7QL4HGHIYcngYiz3AHmAPsAfYA4fSAww5bOxDaWz+j0j+f0SsKWvKHmAPHDQPMOQw5DDksAfYA+wB9gB74FB6gCGHjX0ojX3Q/tvg/PJ/yOwBRR74GMfexx3sJWP4uEufbXxMbCEZjyIZ38TuDn0i2I1tILG9jsT2GuJbqQ/9TfvoN+2YnU3tHDqX0tDS2o1padM19j/GuT6tsjaVIafKHghXdIoqOn7OXPmyBw6lB/aSOxpsEHjsxiJIxAhU1pHQQCWM+Fb5PxoY7USQTGxpAMT1euXqdYYcrvgOZcXHlUrlKhXWnrVX5QHqjdFgZieigUwlAKbYa6bAZ1PrAaL7UKURp5td/v4Pbp9mdW61Z2cAAAAASUVORK5CYII=)\r\n",
        "\r\n",
        "\r\n",
        "Précision du SVM 0.8873462016028897\r\n",
        "\r\n",
        "\r\n",
        "Précision de la Régression Logistique 0.8626255785077322\r\n",
        "\r\n",
        "\r\n",
        "Précision du Naïve Bayes 0.8610452647025624"
      ]
    },
    {
      "cell_type": "markdown",
      "metadata": {
        "id": "NXCaIGSQ-oMu"
      },
      "source": [
        "# Conclusion"
      ]
    },
    {
      "cell_type": "markdown",
      "metadata": {
        "id": "3jplniB0_nBt"
      },
      "source": [
        "Avant de conclure, nous tenons à remercier notre professeur Monsieur Habib Ayad pour cette opportunité que fût ce projet en entier pour acquérir des informations solides en big data et analyse des données. Nous continuerons à élargir nos compétences dans ce domaine qui nous tient à cœur. En n’importe quel projet de big data ou de machine learning en général nous remarquons que la compréhension des données optimise l’efficacité du modèle, ceci dit l’analyse et la visualisation des données sont indispensables pour optimiser la méthodologie utilisée lors du preprocessing et de modélisation."
      ]
    }
  ]
}